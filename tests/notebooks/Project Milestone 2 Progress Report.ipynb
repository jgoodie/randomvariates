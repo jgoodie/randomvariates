{
 "cells": [
  {
   "cell_type": "markdown",
   "id": "fab78c6c-d247-4189-b1aa-53488e377d1b",
   "metadata": {},
   "source": [
    "# Project Milestone 2 Progress Report"
   ]
  },
  {
   "cell_type": "markdown",
   "id": "cfc48783-3d53-4ef9-86c4-f0a23dc49bb2",
   "metadata": {},
   "source": [
    "For the class project, I've chosen to create a library of random variate generation routines roughly similar to what you might find in Numpy's Random library. One of the reasons I like the numpy library is how easy it is to use and the goal for my library is to emulate that ease of use. While numpy has many nice random variate routines, I've chosen to not emulate the routines in numpy exactly. For example: the numpy Weibull routine only takes the shape parameter, while my routine takes a shape and scale parameters (as shown in the class lectures). Additionally, Numpy does not have an Erlang routine, while mine does. \n",
    "\n",
    "In \n"
   ]
  },
  {
   "cell_type": "markdown",
   "id": "df4c87a1-76a8-450e-8454-ec8eff3ebf0f",
   "metadata": {},
   "source": [
    "### Completed\n",
    "* various helper functions to set, get and generate random seeds\n",
    "* Random Number Generator ([\"Squares: A Fast Counter-Based RNG\" - Bernard Widynski 2021](https://arxiv.org/pdf/2004.06278.pdf))\n",
    "* Uniform (linear congruential generator)\n",
    "* Normal\n",
    "* Exponential\n",
    "* Erlang\n",
    "* Weibull\n",
    "* Triangular\n"
   ]
  },
  {
   "cell_type": "markdown",
   "id": "712920e3-5950-47a8-8976-6612b06d0579",
   "metadata": {},
   "source": [
    "### To Do:\n",
    "\n",
    "Depending on time, I will try to implement the following:\n",
    "\n",
    "* Bernoulli\n",
    "* Binomial\n",
    "* Gamma\n",
    "* Geometric\n",
    "* Poisson\n",
    "* Hypergeometric\n",
    "* Beta\n",
    "* Chisquared\n",
    "* NegBin\n",
    "* Others? \n"
   ]
  },
  {
   "cell_type": "markdown",
   "id": "470c2464-a498-4ab8-8634-97fdb577e545",
   "metadata": {},
   "source": [
    "## Demo of currently implemented routines"
   ]
  },
  {
   "cell_type": "code",
   "execution_count": null,
   "id": "8f215abf-72e2-4a7e-8db1-f37d5092f90c",
   "metadata": {},
   "outputs": [],
   "source": []
  },
  {
   "cell_type": "code",
   "execution_count": null,
   "id": "40a0c4b1-7ed4-43ba-9701-4ae5a6a3e424",
   "metadata": {},
   "outputs": [],
   "source": []
  },
  {
   "cell_type": "code",
   "execution_count": null,
   "id": "6a9c1970-53bb-405e-9757-3f6570e87ef0",
   "metadata": {},
   "outputs": [],
   "source": []
  },
  {
   "cell_type": "code",
   "execution_count": null,
   "id": "3d56d07b-622e-47ad-957a-4306e88cfe43",
   "metadata": {},
   "outputs": [],
   "source": []
  },
  {
   "cell_type": "code",
   "execution_count": null,
   "id": "b6776d60-dd4a-4e82-beda-2817ea3d2d1d",
   "metadata": {},
   "outputs": [],
   "source": []
  },
  {
   "cell_type": "code",
   "execution_count": null,
   "id": "283b1632-6ab9-46e6-8d1b-0591a7561260",
   "metadata": {},
   "outputs": [],
   "source": []
  },
  {
   "cell_type": "code",
   "execution_count": null,
   "id": "fac1ee84-54a2-4f6f-86c1-c0ad7804b9a3",
   "metadata": {},
   "outputs": [],
   "source": []
  }
 ],
 "metadata": {
  "kernelspec": {
   "display_name": "Python 3",
   "language": "python",
   "name": "python3"
  },
  "language_info": {
   "codemirror_mode": {
    "name": "ipython",
    "version": 3
   },
   "file_extension": ".py",
   "mimetype": "text/x-python",
   "name": "python",
   "nbconvert_exporter": "python",
   "pygments_lexer": "ipython3",
   "version": "3.8.2"
  }
 },
 "nbformat": 4,
 "nbformat_minor": 5
}
