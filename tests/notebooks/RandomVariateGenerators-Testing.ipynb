{
 "cells": [
  {
   "cell_type": "markdown",
   "id": "5ad243c4-57d9-4d40-86e9-e9916ba5e60d",
   "metadata": {},
   "source": [
    "#### To create 3-D scatter plots\n",
    "#### https://stackoverflow.com/questions/1985856/how-to-make-a-3d-scatter-plot-in-python"
   ]
  },
  {
   "cell_type": "code",
   "execution_count": null,
   "id": "a2229612-b13c-43e6-b1d1-071860b6efe6",
   "metadata": {},
   "outputs": [],
   "source": [
    "import sys\n",
    "sys.path.append(\"../../\")\n",
    "\n",
    "import numpy as np\n",
    "from scipy import stats\n",
    "from RV import RandomVariates\n",
    "import plotly.express as px\n",
    "import plotly.graph_objects as go\n",
    "import matplotlib.pyplot as plt\n",
    "from mpl_toolkits.mplot3d import Axes3D\n",
    "%matplotlib inline\n"
   ]
  },
  {
   "cell_type": "markdown",
   "id": "e67a47a8-b11f-48fd-a467-e8898dca50ca",
   "metadata": {},
   "source": [
    "# Uniform Testing"
   ]
  },
  {
   "cell_type": "code",
   "execution_count": null,
   "id": "08b5eac8-68fc-41ca-aad3-061631f745a6",
   "metadata": {},
   "outputs": [],
   "source": [
    "rv = RandomVariates()"
   ]
  },
  {
   "cell_type": "code",
   "execution_count": null,
   "id": "e6e4425e-bb94-4169-82ce-651083f8f249",
   "metadata": {},
   "outputs": [],
   "source": [
    "rv.set_seed(1234)\n",
    "rv.uniform(n=20)"
   ]
  },
  {
   "cell_type": "code",
   "execution_count": null,
   "id": "1d4d4729-c686-4d48-94ae-d659cba4b3cb",
   "metadata": {},
   "outputs": [],
   "source": [
    "rv.set_seed(42)\n",
    "unifs = rv.uniform(n=1000000)\n",
    "print(np.mean(unifs))\n",
    "print(np.var(unifs)) # 1/12 = 0.0833333333\n",
    "print(np.std(unifs))"
   ]
  },
  {
   "cell_type": "code",
   "execution_count": null,
   "id": "513093f5-9787-4146-8433-da450e90f8eb",
   "metadata": {},
   "outputs": [],
   "source": [
    "rv.set_seed(456)\n",
    "unifs = rv.uniform(n=1000000)\n",
    "print(np.mean(unifs))\n",
    "\n",
    "plt.hist(unifs, bins=1000)\n",
    "plt.show()"
   ]
  },
  {
   "cell_type": "code",
   "execution_count": null,
   "id": "0515d5d6-fd9e-4cdb-b8c4-1da45598121f",
   "metadata": {},
   "outputs": [],
   "source": [
    "rv.set_seed(23)\n",
    "x = rv.uniform(n=100000)\n",
    "y = rv.uniform(n=100000)\n",
    "\n",
    "plt.scatter(x, y, s=0.8, alpha=0.2)\n",
    "plt.show()"
   ]
  },
  {
   "cell_type": "code",
   "execution_count": null,
   "id": "7ad9b45f-0205-4576-92ec-78ed4f5fd80c",
   "metadata": {},
   "outputs": [],
   "source": [
    "rv.set_seed(456)\n",
    "print(rv.get_seed())\n",
    "rv.uniform(n=1)"
   ]
  },
  {
   "cell_type": "code",
   "execution_count": null,
   "id": "505d02d5-d4ad-4ab3-84ae-98cfa08c87bb",
   "metadata": {},
   "outputs": [],
   "source": [
    "rv.set_seed(0)\n",
    "x = rv.uniform(n=100000)\n",
    "rv.set_seed(1)\n",
    "y = rv.uniform(n=100000)\n",
    "\n",
    "plt.scatter(x, y, s=0.8, alpha=0.2)\n",
    "plt.show()"
   ]
  },
  {
   "cell_type": "code",
   "execution_count": null,
   "id": "fa47ea85-060b-4148-9e0c-b7976c3e86d7",
   "metadata": {},
   "outputs": [],
   "source": [
    "x = RandomVariates()\n",
    "x.set_seed(42)\n",
    "y = RandomVariates()\n",
    "y.set_seed(43)\n",
    "\n",
    "\n",
    "plt.scatter(x.uniform(n=100000), y.uniform(n=100000), s=0.8, alpha=0.2)\n",
    "plt.show()"
   ]
  },
  {
   "cell_type": "code",
   "execution_count": null,
   "id": "a8ec47c3-4c35-4965-913e-57da57d24069",
   "metadata": {},
   "outputs": [],
   "source": [
    "x = RandomVariates()\n",
    "x.set_seed(1*3.141)\n",
    "\n",
    "y = RandomVariates()\n",
    "y.set_seed(2*3.141)\n",
    "\n",
    "z = RandomVariates()\n",
    "z.set_seed(3*3.141)\n",
    "\n",
    "fig = plt.figure()\n",
    "ax = Axes3D(fig, auto_add_to_figure=False, azim=45)\n",
    "fig.add_axes(ax)\n",
    "\n",
    "sequence_containing_x_vals = x.uniform(n=100000)\n",
    "sequence_containing_y_vals = y.uniform(n=100000)\n",
    "sequence_containing_z_vals = z.uniform(n=100000)\n",
    "\n",
    "ax.scatter(sequence_containing_x_vals, sequence_containing_y_vals, sequence_containing_z_vals, s=0.8, alpha=0.1)\n",
    "plt.show()"
   ]
  },
  {
   "cell_type": "code",
   "execution_count": null,
   "id": "43e23650-75a5-46aa-b8a4-02d5c8c5bc91",
   "metadata": {},
   "outputs": [],
   "source": [
    "rv1 = RandomVariates()\n",
    "rv2 = RandomVariates()\n",
    "rv3 = RandomVariates()\n",
    "rv1.set_seed(1)\n",
    "rv2.set_seed(2)\n",
    "rv3.set_seed(3)\n",
    "x = rv1.uniform(n=100000)\n",
    "y = rv2.uniform(n=100000)\n",
    "z = rv3.uniform(n=100000)\n",
    "\n",
    "# fig = go.Figure(data=[go.Scatter3d(x=x, y=y, z=z,mode='markers')])\n",
    "fig = go.FigureWidget(data=[go.Scatter3d(x=x, y=y, z=z, mode='markers', opacity=0.2, marker=dict(size=2))])\n",
    "fig.show()"
   ]
  },
  {
   "cell_type": "code",
   "execution_count": null,
   "id": "e6f0a160-52e5-4525-8bfc-a788f727dbb7",
   "metadata": {},
   "outputs": [],
   "source": [
    "rv = RandomVariates()\n",
    "u1 = []\n",
    "u2 = []\n",
    "for _ in range(100000):\n",
    "    u1.append(rv.uniform()[0])\n",
    "    u2.append(rv.uniform()[0])\n",
    "    \n",
    "plt.scatter(u1, u2, s=0.8, alpha=0.2)\n",
    "plt.show()"
   ]
  },
  {
   "cell_type": "markdown",
   "id": "ba880a4e-7755-4b43-8a2b-a6e054f06dec",
   "metadata": {},
   "source": [
    "# Normal Testing"
   ]
  },
  {
   "cell_type": "code",
   "execution_count": null,
   "id": "077af7e8-a4ab-4a59-a79f-cc1d3695688f",
   "metadata": {},
   "outputs": [],
   "source": [
    "rv.norm()"
   ]
  },
  {
   "cell_type": "code",
   "execution_count": null,
   "id": "7101e8d5-50ac-4155-aac9-320e73c5dbf4",
   "metadata": {},
   "outputs": [],
   "source": [
    "stats.norm.ppf(0.95) # norm.s.inv norm-inverse"
   ]
  },
  {
   "cell_type": "code",
   "execution_count": null,
   "id": "ac669022-d8b0-4774-af7c-1b1f9c2b0c3d",
   "metadata": {},
   "outputs": [],
   "source": [
    "vals = []\n",
    "n = 100000\n",
    "for _ in range(n):\n",
    "    u = np.random.uniform()\n",
    "    vals.append(2*stats.norm.ppf(u) + 3)\n",
    "\n",
    "mean = np.mean(vals)\n",
    "var = np.var(vals)\n",
    "sd = np.std(vals)\n",
    "print(f\"mean: {mean}\")\n",
    "print(f\"var: {var}\")\n",
    "print(f\"sd:{sd}\")"
   ]
  },
  {
   "cell_type": "code",
   "execution_count": null,
   "id": "69efdc31-c8f4-445f-b83b-aec53861063b",
   "metadata": {},
   "outputs": [],
   "source": [
    "mu = -1\n",
    "sd = 2\n",
    "n = 1000000\n",
    "vals = []\n",
    "for _ in range(n):\n",
    "    u1 = np.random.uniform()\n",
    "    u2 = np.random.uniform()\n",
    "    theta = 2 * np.pi * u2\n",
    "    r = np.sqrt(-2 * np.log(u1))\n",
    "    x = r * np.cos(theta) # degrees or radians?\n",
    "    z = mu + (x * sd)\n",
    "    vals.append(z)\n",
    "mean = np.mean(vals)\n",
    "var = np.var(vals)\n",
    "sd = np.std(vals)\n",
    "print(f\"mean: {mean}\")\n",
    "print(f\"var: {var}\")\n",
    "print(f\"sd:{sd}\")"
   ]
  },
  {
   "cell_type": "code",
   "execution_count": null,
   "id": "80e94540-ab10-4d67-9f5d-bbb31ba5e99f",
   "metadata": {},
   "outputs": [],
   "source": [
    "rv = RandomVariates()"
   ]
  },
  {
   "cell_type": "code",
   "execution_count": null,
   "id": "052731d4-a9c5-48e5-9502-4095ca5c9acb",
   "metadata": {},
   "outputs": [],
   "source": [
    "rv.set_seed(234)\n",
    "rv.norm()"
   ]
  },
  {
   "cell_type": "code",
   "execution_count": null,
   "id": "f0c84bc7-e448-4c66-94d6-9da9c4cd2dde",
   "metadata": {},
   "outputs": [],
   "source": [
    "rv.norm(mu=0, sd=1, n=5)"
   ]
  },
  {
   "cell_type": "code",
   "execution_count": null,
   "id": "b5b941a4-3d36-42a7-9530-970e45938e24",
   "metadata": {},
   "outputs": [],
   "source": [
    "rv.set_seed(0) # 12297135\n",
    "z = rv.norm(mu=0.0, sd=2, n=1000000)\n",
    "mean = np.mean(z)\n",
    "var = np.var(z)\n",
    "sd = np.std(z)\n",
    "print(mean)\n",
    "print(var)\n",
    "print(sd)"
   ]
  },
  {
   "cell_type": "code",
   "execution_count": null,
   "id": "c8da88ab-aa29-4f50-9a80-4285bd399a2a",
   "metadata": {},
   "outputs": [],
   "source": [
    "rv.set_seed(0)\n",
    "z = rv.norm(mu=0, sd=1, n=1000000)\n",
    "plt.hist(z, bins=1000)\n",
    "plt.show()"
   ]
  },
  {
   "cell_type": "code",
   "execution_count": null,
   "id": "0011b9b6-8795-4c9b-b1f6-2d1406003111",
   "metadata": {},
   "outputs": [],
   "source": [
    "rv.set_seed(12345678)\n",
    "z = rv.norm(mu=0, sd=1, n=1000000)\n",
    "plt.hist(z, bins=1000)\n",
    "plt.show()"
   ]
  },
  {
   "cell_type": "code",
   "execution_count": null,
   "id": "c0161a23-e2dc-4237-82c9-ce9486efd7ad",
   "metadata": {},
   "outputs": [],
   "source": [
    "rv1 = RandomVariates()\n",
    "rv2 = RandomVariates()\n",
    "z1 = rv1.norm(mu=0, sd=1, n=1000000)\n",
    "z2 = rv2.norm(mu=0, sd=1, n=1000000)\n",
    "\n",
    "plt.scatter(z1, z2, s=0.8, alpha=0.2)\n",
    "plt.show()"
   ]
  },
  {
   "cell_type": "code",
   "execution_count": null,
   "id": "76975be9-781b-488d-91a8-06cdeb7427ca",
   "metadata": {},
   "outputs": [],
   "source": [
    "rv1 = RandomVariates()\n",
    "rv2 = RandomVariates()\n",
    "rv3 = RandomVariates()\n",
    "x = rv1.norm(mu=0, sd=1, n=100000)\n",
    "y = rv2.norm(mu=0, sd=1, n=100000)\n",
    "z = rv3.norm(mu=0, sd=1, n=100000)\n",
    "\n",
    "fig = plt.figure()\n",
    "ax = Axes3D(fig, auto_add_to_figure=False, azim=-60)\n",
    "fig.add_axes(ax)\n",
    "\n",
    "sequence_containing_x_vals = x\n",
    "sequence_containing_y_vals = y\n",
    "sequence_containing_z_vals = z\n",
    "\n",
    "ax.scatter(sequence_containing_x_vals, sequence_containing_y_vals, sequence_containing_z_vals, s=0.8, alpha=0.1)\n",
    "plt.show()"
   ]
  },
  {
   "cell_type": "code",
   "execution_count": null,
   "id": "3b6559c7-e3c1-495e-98e5-e065e95945ef",
   "metadata": {},
   "outputs": [],
   "source": [
    "rv1 = RandomVariates()\n",
    "rv2 = RandomVariates()\n",
    "rv3 = RandomVariates()\n",
    "rv1.set_seed(1)\n",
    "rv2.set_seed(2)\n",
    "rv3.set_seed(3)\n",
    "x = rv1.norm(mu=0, sd=1, n=100000)\n",
    "y = rv2.norm(mu=0, sd=1, n=100000)\n",
    "z = rv3.norm(mu=0, sd=1, n=100000)\n",
    "\n",
    "# fig = go.Figure(data=[go.Scatter3d(x=x, y=y, z=z,mode='markers')])\n",
    "fig = go.FigureWidget(data=[go.Scatter3d(x=x, y=y, z=z, mode='markers', opacity=0.2, marker=dict(size=2))])\n",
    "fig.show()"
   ]
  },
  {
   "cell_type": "markdown",
   "id": "555784c3-a3a3-4ba2-b0a3-7303a0277a43",
   "metadata": {},
   "source": [
    "# Exponential"
   ]
  },
  {
   "cell_type": "code",
   "execution_count": null,
   "id": "d5363026-521a-4faa-9597-f2d697a4f685",
   "metadata": {},
   "outputs": [],
   "source": [
    "lam = 1\n",
    "vals = []\n",
    "n = 1000000\n",
    "for _ in range(n):\n",
    "    X = np.random.exponential()\n",
    "    vals.append(1 - np.e**(-lam*X))\n",
    "\n",
    "plt.hist(vals, bins=1000)\n",
    "plt.show()"
   ]
  },
  {
   "cell_type": "code",
   "execution_count": null,
   "id": "01584077-f59a-4a24-8eb9-4b2185ad8bb8",
   "metadata": {},
   "outputs": [],
   "source": [
    "rv = RandomVariates()"
   ]
  },
  {
   "cell_type": "code",
   "execution_count": null,
   "id": "40dd79bc-d99f-4908-aec9-a50ebd585d8f",
   "metadata": {},
   "outputs": [],
   "source": [
    "rv.set_seed(42)\n",
    "rv.exponential(lam=3, n=10)"
   ]
  },
  {
   "cell_type": "code",
   "execution_count": null,
   "id": "5dfb1365-2540-434a-86ea-4327657e1a4b",
   "metadata": {},
   "outputs": [],
   "source": [
    "# mean = 1/lam\n",
    "# var = 1/lam^2\n",
    "rv.set_seed(0) # 12297135\n",
    "z = rv.exponential(lam=2, n=1000000)\n",
    "mean = np.mean(z)\n",
    "var = np.var(z)\n",
    "sd = np.std(z)\n",
    "print(f'mean: {mean}')\n",
    "print(f'var: {var}')\n",
    "print(f'sd: {sd}')"
   ]
  },
  {
   "cell_type": "code",
   "execution_count": null,
   "id": "19681f74-3f77-4a55-be68-e1057e0cc339",
   "metadata": {},
   "outputs": [],
   "source": [
    "rv.set_seed(0)\n",
    "z = rv.exponential(lam=1, n=1000000)\n",
    "plt.hist(z, bins=1000)\n",
    "plt.show()"
   ]
  },
  {
   "cell_type": "code",
   "execution_count": null,
   "id": "e647fba6-5787-430b-9e79-a241229f1d8c",
   "metadata": {},
   "outputs": [],
   "source": [
    "rv.set_seed(0)\n",
    "z = rv.exponential(lam=1/4, n=1000000)\n",
    "plt.hist(z, bins=1000)\n",
    "plt.show()"
   ]
  },
  {
   "cell_type": "code",
   "execution_count": null,
   "id": "209e98fc-a21c-4c76-9ff2-d843264b8cd2",
   "metadata": {},
   "outputs": [],
   "source": [
    "rv.exponential(lam=0, n=10)"
   ]
  },
  {
   "cell_type": "code",
   "execution_count": null,
   "id": "e85a1f94-5c46-49f8-9eac-35f1f248212d",
   "metadata": {},
   "outputs": [],
   "source": [
    "rv1 = RandomVariates()\n",
    "rv2 = RandomVariates()\n",
    "z1 = rv1.exponential(lam=1,n=1000000)\n",
    "z2 = rv2.exponential(lam=1,n=1000000)\n",
    "\n",
    "plt.scatter(z1, z2, s=0.8, alpha=0.2)\n",
    "plt.show()"
   ]
  },
  {
   "cell_type": "code",
   "execution_count": null,
   "id": "e36ee435-feda-454e-be9c-5232f15e9206",
   "metadata": {},
   "outputs": [],
   "source": [
    "rv1 = RandomVariates()\n",
    "rv1.set_seed(0)\n",
    "rv2 = RandomVariates()\n",
    "rv2.set_seed(1)\n",
    "z1 = rv1.exponential(lam=1,n=1000000)\n",
    "z2 = rv2.exponential(lam=1,n=1000000)\n",
    "\n",
    "plt.scatter(z1, z2, s=0.8, alpha=0.2)\n",
    "plt.show()"
   ]
  },
  {
   "cell_type": "code",
   "execution_count": null,
   "id": "eb417ea1-9d60-43ad-90e9-e589e1787f6e",
   "metadata": {},
   "outputs": [],
   "source": [
    "rv1 = RandomVariates()\n",
    "rv2 = RandomVariates()\n",
    "rv3 = RandomVariates()\n",
    "x = rv1.exponential(lam=1,n=1000000)\n",
    "y = rv2.exponential(lam=1,n=1000000)\n",
    "z = rv3.exponential(lam=1,n=1000000)\n",
    "\n",
    "fig = plt.figure()\n",
    "ax = Axes3D(fig, auto_add_to_figure=False, azim=30)\n",
    "fig.add_axes(ax)\n",
    "\n",
    "sequence_containing_x_vals = x\n",
    "sequence_containing_y_vals = y\n",
    "sequence_containing_z_vals = z\n",
    "\n",
    "ax.scatter(sequence_containing_x_vals, sequence_containing_y_vals, sequence_containing_z_vals, s=0.8, alpha=0.1)\n",
    "plt.show()"
   ]
  },
  {
   "cell_type": "code",
   "execution_count": null,
   "id": "acdfdf66-a2d4-4f63-934e-7f99751cca95",
   "metadata": {},
   "outputs": [],
   "source": [
    "rv1 = RandomVariates()\n",
    "rv2 = RandomVariates()\n",
    "rv3 = RandomVariates()\n",
    "rv1.set_seed(1)\n",
    "rv2.set_seed(2)\n",
    "rv3.set_seed(3)\n",
    "x = rv1.exponential(lam=1,n=1000000)\n",
    "y = rv2.exponential(lam=1,n=1000000)\n",
    "z = rv3.exponential(lam=1,n=1000000)\n",
    "\n",
    "fig = plt.figure()\n",
    "ax = Axes3D(fig, auto_add_to_figure=False, azim=60)\n",
    "fig.add_axes(ax)\n",
    "\n",
    "sequence_containing_x_vals = x\n",
    "sequence_containing_y_vals = y\n",
    "sequence_containing_z_vals = z\n",
    "\n",
    "ax.scatter(sequence_containing_x_vals, sequence_containing_y_vals, sequence_containing_z_vals, s=0.8, alpha=0.1)\n",
    "plt.show()"
   ]
  },
  {
   "cell_type": "code",
   "execution_count": null,
   "id": "93af33cd-c07c-424b-827c-fd34c7698ebb",
   "metadata": {},
   "outputs": [],
   "source": [
    "rv1 = RandomVariates()\n",
    "rv2 = RandomVariates()\n",
    "rv3 = RandomVariates()\n",
    "rv1.set_seed(1)\n",
    "rv2.set_seed(2)\n",
    "rv3.set_seed(3)\n",
    "x = rv1.exponential(lam=1,n=10000)\n",
    "y = rv2.exponential(lam=1,n=10000)\n",
    "z = rv3.exponential(lam=1,n=10000)\n",
    "\n",
    "# fig = go.Figure(data=[go.Scatter3d(x=x, y=y, z=z,mode='markers')])\n",
    "fig = go.FigureWidget(data=[go.Scatter3d(x=x, y=y, z=z, mode='markers', opacity=0.2, marker=dict(size=2))])\n",
    "fig.show()"
   ]
  },
  {
   "cell_type": "markdown",
   "id": "2c4a7bdd-3877-4c04-b5d6-e7abfc1b15e0",
   "metadata": {},
   "source": [
    "# Erlang"
   ]
  },
  {
   "cell_type": "code",
   "execution_count": null,
   "id": "ea65fd90-d83f-4356-9f28-37346e98512b",
   "metadata": {},
   "outputs": [],
   "source": [
    "rv = RandomVariates()"
   ]
  },
  {
   "cell_type": "code",
   "execution_count": null,
   "id": "b192f3c6-a30c-48c8-ba24-48548edfac67",
   "metadata": {},
   "outputs": [],
   "source": [
    "rv.erlang(lam=1, k=1, n=10)"
   ]
  },
  {
   "cell_type": "code",
   "execution_count": null,
   "id": "22507a41-cc1e-4883-9af1-84a579e4f459",
   "metadata": {},
   "outputs": [],
   "source": [
    "z = rv.erlang(lam=1, k=1, n=1000000)\n",
    "plt.hist(z, bins=1000)\n",
    "plt.show()"
   ]
  },
  {
   "cell_type": "code",
   "execution_count": null,
   "id": "9775755e-9c3d-4ac1-b7ad-3db6567533e2",
   "metadata": {},
   "outputs": [],
   "source": [
    "z = rv.erlang(lam=1, k=2, n=1000000)\n",
    "plt.hist(z, bins=1000)\n",
    "plt.show()"
   ]
  },
  {
   "cell_type": "code",
   "execution_count": null,
   "id": "7c5c161a-d00b-4623-9a9a-fddd99ba6d27",
   "metadata": {},
   "outputs": [],
   "source": [
    "z = rv.erlang(lam=1, k=3, n=1000000)\n",
    "plt.hist(z, bins=1000)\n",
    "plt.show()"
   ]
  },
  {
   "cell_type": "code",
   "execution_count": null,
   "id": "19204726-45b3-4851-8762-1721754190ca",
   "metadata": {},
   "outputs": [],
   "source": [
    "z = rv.erlang(lam=1, k=4, n=1000000)\n",
    "plt.hist(z, bins=1000)\n",
    "plt.show()"
   ]
  },
  {
   "cell_type": "code",
   "execution_count": null,
   "id": "0b7ef07a-fc4b-4a99-a568-3948a4fe25eb",
   "metadata": {},
   "outputs": [],
   "source": [
    "z = rv.erlang(lam=1/4, k=3, n=1000000)\n",
    "plt.hist(z, bins=1000)\n",
    "plt.show()"
   ]
  },
  {
   "cell_type": "code",
   "execution_count": null,
   "id": "ec51bcc0-bc40-4570-905a-af544ddb945e",
   "metadata": {},
   "outputs": [],
   "source": []
  },
  {
   "cell_type": "code",
   "execution_count": null,
   "id": "17f1a83d-fa65-41f5-b77e-c7921fa6e57c",
   "metadata": {},
   "outputs": [],
   "source": [
    "z = rv.erlang(lam=1, k=9, n=1000000)\n",
    "print(np.mean(z)) #k/lam\n",
    "print(np.var(z)) #k/lam^2\n",
    "\n",
    "plt.hist(z, bins=1000)\n",
    "plt.show()"
   ]
  },
  {
   "cell_type": "code",
   "execution_count": null,
   "id": "e71cdc23-acdc-4415-922e-212be5fec8ac",
   "metadata": {},
   "outputs": [],
   "source": [
    "rv1 = RandomVariates()\n",
    "rv2 = RandomVariates()\n",
    "z1 = rv1.erlang(lam=1, k=9, n=1000000)\n",
    "z2 = rv2.erlang(lam=1, k=9, n=1000000)\n",
    "\n",
    "plt.scatter(z1, z2, s=0.8, alpha=0.2)\n",
    "plt.show()"
   ]
  },
  {
   "cell_type": "code",
   "execution_count": null,
   "id": "4933274e-eb05-4cc7-b901-b6eea02fd751",
   "metadata": {},
   "outputs": [],
   "source": [
    "rv1 = RandomVariates()\n",
    "rv2 = RandomVariates()\n",
    "rv3 = RandomVariates()\n",
    "rv1.set_seed(1)\n",
    "rv2.set_seed(2)\n",
    "rv3.set_seed(3)\n",
    "x = rv1.erlang(lam=1, k=9, n=100000)\n",
    "y = rv2.erlang(lam=1, k=9, n=100000)\n",
    "z = rv3.erlang(lam=1, k=9, n=100000)\n",
    "\n",
    "# fig = go.Figure(data=[go.Scatter3d(x=x, y=y, z=z,mode='markers')])\n",
    "fig = go.FigureWidget(data=[go.Scatter3d(x=x, y=y, z=z, mode='markers', opacity=0.2, marker=dict(size=2))])\n",
    "fig.show()"
   ]
  },
  {
   "cell_type": "markdown",
   "id": "d820908f-0598-485e-83d6-fcc523477767",
   "metadata": {},
   "source": [
    "# Weibull"
   ]
  },
  {
   "cell_type": "code",
   "execution_count": null,
   "id": "75b0c27c-b71a-4c0d-a0fa-009eb016689c",
   "metadata": {},
   "outputs": [],
   "source": [
    "np.random.weibull()"
   ]
  },
  {
   "cell_type": "code",
   "execution_count": null,
   "id": "eaf858a0-0585-46df-8f30-6f708a062a24",
   "metadata": {},
   "outputs": [],
   "source": [
    "X = (-ln(U))^{1/a}"
   ]
  },
  {
   "cell_type": "code",
   "execution_count": null,
   "id": "02f24740-f835-4ddb-aa56-bda20db25801",
   "metadata": {},
   "outputs": [],
   "source": [
    "rv = RandomVariates()"
   ]
  },
  {
   "cell_type": "code",
   "execution_count": null,
   "id": "eb91015f-e847-4a94-af3f-555ede242664",
   "metadata": {},
   "outputs": [],
   "source": [
    "rv.weibull(lam=2,beta=2,n=10)"
   ]
  },
  {
   "cell_type": "code",
   "execution_count": null,
   "id": "a254e91e-402e-4001-8995-ae4b6bc8d215",
   "metadata": {},
   "outputs": [],
   "source": [
    "w = rv.weibull(lam=1,beta=1,n=1000000)\n",
    "plt.hist(w, bins=1000)\n",
    "plt.show()"
   ]
  },
  {
   "cell_type": "code",
   "execution_count": null,
   "id": "804bdd68-2a71-4e3b-900f-64ce2aae1719",
   "metadata": {},
   "outputs": [],
   "source": [
    "w = rv.weibull(lam=1,beta=5,n=1000000)\n",
    "plt.hist(w, bins=1000)\n",
    "plt.show()"
   ]
  },
  {
   "cell_type": "code",
   "execution_count": null,
   "id": "fd3c2bce-d037-4dbc-a100-7e5c49e34467",
   "metadata": {},
   "outputs": [],
   "source": [
    "w = rv.weibull(lam=1,beta=50,n=1000000)\n",
    "plt.hist(w, bins=1000)\n",
    "plt.show()"
   ]
  },
  {
   "cell_type": "code",
   "execution_count": null,
   "id": "42fa2d46-1ce9-477c-bd87-d8b0db96ba52",
   "metadata": {},
   "outputs": [],
   "source": [
    "w = rv.weibull(lam=3,beta=50,n=1000000)\n",
    "plt.hist(w, bins=1000)\n",
    "plt.show()"
   ]
  },
  {
   "cell_type": "code",
   "execution_count": null,
   "id": "3c9c8d5b-656b-49e5-a634-c63f5ee0f45c",
   "metadata": {},
   "outputs": [],
   "source": [
    "rv1 = RandomVariates()\n",
    "rv2 = RandomVariates()\n",
    "z1 = rv1.weibull(lam=3,beta=50,n=1000000)\n",
    "z2 = rv2.weibull(lam=3,beta=50,n=1000000)\n",
    "\n",
    "plt.scatter(z1, z2, s=0.8, alpha=0.2)\n",
    "plt.show()"
   ]
  },
  {
   "cell_type": "code",
   "execution_count": null,
   "id": "5fa98e52-d897-4be2-bee9-4afa9adaf332",
   "metadata": {},
   "outputs": [],
   "source": [
    "rv1 = RandomVariates()\n",
    "rv2 = RandomVariates()\n",
    "rv3 = RandomVariates()\n",
    "rv1.set_seed(1)\n",
    "rv2.set_seed(2)\n",
    "rv3.set_seed(3)\n",
    "x = rv1.weibull(lam=3,beta=50,n=100000)\n",
    "y = rv2.weibull(lam=3,beta=50,n=100000)\n",
    "z = rv3.weibull(lam=3,beta=50,n=100000)\n",
    "\n",
    "# fig = go.Figure(data=[go.Scatter3d(x=x, y=y, z=z,mode='markers')])\n",
    "fig = go.FigureWidget(data=[go.Scatter3d(x=x, y=y, z=z, mode='markers', opacity=0.2, marker=dict(size=2))])\n",
    "fig.show()"
   ]
  },
  {
   "cell_type": "markdown",
   "id": "15522e43-8921-4af9-9843-36620fde6dc9",
   "metadata": {},
   "source": [
    "# Triangular"
   ]
  },
  {
   "cell_type": "markdown",
   "id": "79e2bc0f-ef46-4d40-9a9f-695eae0edff4",
   "metadata": {},
   "source": [
    "$\n",
    "P(x;l, m, r) = \\begin{cases}\n",
    "          \\frac{2(x-l)}{(r-l)(m-l)}& \\text{for $l \\leq x \\leq m$},\\\\\n",
    "          \\frac{2(r-x)}{(r-l)(r-m)}& \\text{for $m \\leq x \\leq r$},\\\\\n",
    "          0& \\text{otherwise}.\n",
    "          \\end{cases}\n",
    "$"
   ]
  },
  {
   "cell_type": "markdown",
   "id": "981220d2-4c40-467a-9ea0-df0590e74771",
   "metadata": {},
   "source": [
    "<img src=./triangular.png>"
   ]
  },
  {
   "cell_type": "markdown",
   "id": "1ee91a22-6c02-4817-be1c-78f5503de95a",
   "metadata": {},
   "source": [
    "https://github.com/numpy/numpy/blob/c90d7c94fd2077d0beca48fa89a423da2b0bb663/numpy/random/mtrand/distributions.c"
   ]
  },
  {
   "cell_type": "code",
   "execution_count": null,
   "id": "80eb14a8-908f-46e9-b1a3-2d405720695f",
   "metadata": {},
   "outputs": [],
   "source": [
    "rv = RandomVariates()"
   ]
  },
  {
   "cell_type": "code",
   "execution_count": null,
   "id": "0df8139f-c82b-4ed9-aadc-1397a5e36fbe",
   "metadata": {},
   "outputs": [],
   "source": [
    "t = rv.triangular(a=0, b=1, c=2, n=1000000)\n",
    "plt.hist(t, bins=1000)\n",
    "plt.show()"
   ]
  },
  {
   "cell_type": "code",
   "execution_count": null,
   "id": "3fc83897-2f8c-4abc-bfca-0394966a6ed5",
   "metadata": {},
   "outputs": [],
   "source": [
    "t = rv.triangular(a=1, b=3, c=7, n=1000000)\n",
    "plt.hist(t, bins=1000)\n",
    "plt.show()"
   ]
  },
  {
   "cell_type": "code",
   "execution_count": null,
   "id": "e93d9930-97ec-43a9-9dfd-b5f0db01a2d8",
   "metadata": {},
   "outputs": [],
   "source": [
    "rv1 = RandomVariates()\n",
    "rv2 = RandomVariates()\n",
    "z1 = rv1.triangular(a=0, b=1, c=2, n=1000000)\n",
    "z2 = rv2.triangular(a=0, b=1, c=2, n=1000000)\n",
    "\n",
    "plt.scatter(z1, z2, s=0.8, alpha=0.2)\n",
    "plt.show()"
   ]
  },
  {
   "cell_type": "code",
   "execution_count": null,
   "id": "f83393ab-e115-49bd-9252-4b2cc8980e58",
   "metadata": {},
   "outputs": [],
   "source": [
    "rv1 = RandomVariates()\n",
    "rv1.set_seed(42)\n",
    "rv2 = RandomVariates()\n",
    "rv2.set_seed(101)\n",
    "z1 = rv1.triangular(a=0, b=1, c=2, n=1000000)\n",
    "z2 = rv2.triangular(a=0, b=1, c=2, n=1000000)\n",
    "\n",
    "plt.scatter(z1, z2, s=0.8, alpha=0.2)\n",
    "plt.show()"
   ]
  },
  {
   "cell_type": "code",
   "execution_count": null,
   "id": "df0b7438-5668-4d33-bd45-4dd1dab35b72",
   "metadata": {},
   "outputs": [],
   "source": [
    "rv1 = RandomVariates()\n",
    "rv2 = RandomVariates()\n",
    "rv3 = RandomVariates()\n",
    "rv1.set_seed(1)\n",
    "rv2.set_seed(2)\n",
    "rv3.set_seed(3)\n",
    "x = rv1.triangular(a=0, b=1, c=2, n=100000)\n",
    "y = rv2.triangular(a=0, b=1, c=2, n=100000)\n",
    "z = rv3.triangular(a=0, b=1, c=2, n=100000)\n",
    "\n",
    "# fig = go.Figure(data=[go.Scatter3d(x=x, y=y, z=z,mode='markers')])\n",
    "fig = go.FigureWidget(data=[go.Scatter3d(x=x, y=y, z=z, mode='markers', opacity=0.2, marker=dict(size=2))])\n",
    "fig.show()"
   ]
  },
  {
   "cell_type": "markdown",
   "id": "90d27d35-7b9e-418e-a525-e219a531dc15",
   "metadata": {},
   "source": [
    "# Bernoulli\n"
   ]
  },
  {
   "cell_type": "code",
   "execution_count": null,
   "id": "ed9a0d2e-6fff-4fa5-8d35-012c3d169ffd",
   "metadata": {},
   "outputs": [],
   "source": [
    "import sys\n",
    "sys.path.append(\"../../\")\n",
    "\n",
    "import numpy as np\n",
    "from RV import RandomVariates\n",
    "import plotly.express as px\n",
    "import plotly.graph_objects as go\n",
    "import matplotlib.pyplot as plt\n",
    "from mpl_toolkits.mplot3d import Axes3D\n",
    "%matplotlib inline"
   ]
  },
  {
   "cell_type": "code",
   "execution_count": null,
   "id": "c4e33858-69f4-4120-99a5-1534ec883d82",
   "metadata": {},
   "outputs": [],
   "source": [
    "rv = RandomVariates()"
   ]
  },
  {
   "cell_type": "code",
   "execution_count": null,
   "id": "b4603c2c-e17e-4c80-841f-92c3ba1cf97e",
   "metadata": {},
   "outputs": [],
   "source": [
    "rv.bernoulli(n=10)"
   ]
  },
  {
   "cell_type": "code",
   "execution_count": null,
   "id": "79818f8c-1f88-4d5a-b5f4-43e65c5db76f",
   "metadata": {},
   "outputs": [],
   "source": [
    "rv.bernoulli(p=0.5, n=10)"
   ]
  },
  {
   "cell_type": "code",
   "execution_count": null,
   "id": "25cf348a-19d8-41ac-a73f-f461fd5ac77d",
   "metadata": {},
   "outputs": [],
   "source": [
    "b = rv.bernoulli(p=0.5, n=1000000)\n",
    "np.mean(b)"
   ]
  },
  {
   "cell_type": "code",
   "execution_count": null,
   "id": "2e033096-62d4-4316-8662-7d79821ab2b0",
   "metadata": {},
   "outputs": [],
   "source": [
    "b = rv.bernoulli(p=0.9, n=1000000)\n",
    "np.mean(b)"
   ]
  },
  {
   "cell_type": "code",
   "execution_count": null,
   "id": "7ae87da7-e57d-452d-b355-ca3d187f0080",
   "metadata": {},
   "outputs": [],
   "source": [
    "b = rv.bernoulli(p=0.5, n=1000000)\n",
    "plt.hist(b, bins=3)\n",
    "plt.show()"
   ]
  },
  {
   "cell_type": "markdown",
   "id": "10700cd8-e23d-46ee-9bb3-7183d8278336",
   "metadata": {},
   "source": [
    "# Binomial"
   ]
  },
  {
   "cell_type": "code",
   "execution_count": null,
   "id": "1dadd807-6e1f-4a2a-a5dd-aaaf0652d75f",
   "metadata": {},
   "outputs": [],
   "source": [
    "import sys\n",
    "sys.path.append(\"../../\")\n",
    "\n",
    "import numpy as np\n",
    "from RV import RandomVariates\n",
    "import plotly.express as px\n",
    "import plotly.graph_objects as go\n",
    "import matplotlib.pyplot as plt\n",
    "from mpl_toolkits.mplot3d import Axes3D\n",
    "%matplotlib inline"
   ]
  },
  {
   "cell_type": "code",
   "execution_count": null,
   "id": "6deb968b-1cfb-4813-b39e-fad29f901226",
   "metadata": {},
   "outputs": [],
   "source": [
    "rv = RandomVariates()"
   ]
  },
  {
   "cell_type": "code",
   "execution_count": null,
   "id": "7171e280-32b5-4dc0-ba9b-03916209685c",
   "metadata": {},
   "outputs": [],
   "source": [
    "print(np.random.binomial(n=10, p=0.5, size=10))\n",
    "print(rv.binomial(t=10, p=0.5, n=10))"
   ]
  },
  {
   "cell_type": "code",
   "execution_count": null,
   "id": "fb7d2558-c7df-4057-a68a-abc6ca53048b",
   "metadata": {},
   "outputs": [],
   "source": [
    "b = np.random.binomial(n=10, p=0.8, size=1000000)\n",
    "plt.hist(b, bins=10)\n",
    "plt.show()"
   ]
  },
  {
   "cell_type": "code",
   "execution_count": null,
   "id": "e3060400-8ad1-4a86-b16c-446b3369ce68",
   "metadata": {},
   "outputs": [],
   "source": [
    "b = rv.binomial(t=10, p=0.8, n=1000000)\n",
    "plt.hist(b, bins=10)\n",
    "plt.show()"
   ]
  },
  {
   "cell_type": "markdown",
   "id": "9fddb787-4b66-4923-852e-16f1f2d7ea27",
   "metadata": {},
   "source": [
    "# Geometric"
   ]
  },
  {
   "cell_type": "code",
   "execution_count": null,
   "id": "8718bfec-0305-4518-b919-7162962421e5",
   "metadata": {},
   "outputs": [],
   "source": [
    "import sys\n",
    "sys.path.append(\"../../\")\n",
    "\n",
    "import numpy as np\n",
    "from RV import RandomVariates\n",
    "import plotly.express as px\n",
    "import plotly.graph_objects as go\n",
    "import matplotlib.pyplot as plt\n",
    "from mpl_toolkits.mplot3d import Axes3D\n",
    "%matplotlib inline"
   ]
  },
  {
   "cell_type": "code",
   "execution_count": null,
   "id": "52a55a18-0c3f-4755-88ba-3c47aebd7814",
   "metadata": {},
   "outputs": [],
   "source": [
    "rv = RandomVariates()"
   ]
  },
  {
   "cell_type": "code",
   "execution_count": null,
   "id": "08a41653-c867-4545-84e9-0ea4062ec290",
   "metadata": {},
   "outputs": [],
   "source": [
    "K = 0;\n",
    "while rv.uniform() > p:\n",
    "    K = K + 1;\n",
    "K"
   ]
  },
  {
   "cell_type": "code",
   "execution_count": null,
   "id": "28003be2-30b5-40c0-bd6b-fc0c91c3f9cd",
   "metadata": {},
   "outputs": [],
   "source": [
    "def geom(p=0.5):\n",
    "    K = 0;\n",
    "    while rv.uniform() > p:\n",
    "        K = K + 1;\n",
    "    return K"
   ]
  },
  {
   "cell_type": "code",
   "execution_count": null,
   "id": "2f2d15c6-fff4-47cb-a3bd-e8854a2ee9b9",
   "metadata": {},
   "outputs": [],
   "source": [
    "geom(p=0.2)"
   ]
  },
  {
   "cell_type": "code",
   "execution_count": null,
   "id": "3725e1af-7b59-4562-b510-555a285fb108",
   "metadata": {},
   "outputs": [],
   "source": [
    "print(np.random.geometric(p=0.2, size=10))\n",
    "print([int(rv.geometric(p=0.2)[0]) for _ in range(10)])\n",
    "print(rv.geometric(p=0.2, n=10))"
   ]
  },
  {
   "cell_type": "code",
   "execution_count": null,
   "id": "9788fe25-c317-4f4f-b425-d83cf2ca1558",
   "metadata": {},
   "outputs": [],
   "source": [
    "rv = RandomVariates()"
   ]
  },
  {
   "cell_type": "code",
   "execution_count": null,
   "id": "c929aaa6-3b5c-4cbd-acc1-e2efbb5a4003",
   "metadata": {},
   "outputs": [],
   "source": [
    "np.random.geometric(p=0.2, size=10)"
   ]
  },
  {
   "cell_type": "code",
   "execution_count": null,
   "id": "4d141742-c114-484a-b365-d59a706f3cfb",
   "metadata": {},
   "outputs": [],
   "source": [
    "rv.geometric(p=0.2, n=10)"
   ]
  },
  {
   "cell_type": "code",
   "execution_count": null,
   "id": "6a98c444-af62-4e94-8f28-b45f686dc756",
   "metadata": {},
   "outputs": [],
   "source": [
    "b = np.random.geometric(p=0.2, size=1000000)\n",
    "plt.hist(b, bins=30)\n",
    "plt.show()"
   ]
  },
  {
   "cell_type": "code",
   "execution_count": null,
   "id": "0b970d75-3d92-4fc3-8288-577aab18d558",
   "metadata": {},
   "outputs": [],
   "source": [
    "b = rv.geometric(p=0.2, n=1000000)\n",
    "plt.hist(b, bins=30)\n",
    "plt.show()"
   ]
  },
  {
   "cell_type": "code",
   "execution_count": null,
   "id": "1f0c1b91-8a09-4493-b3dc-83b534abc181",
   "metadata": {},
   "outputs": [],
   "source": [
    "b = rv.geometric(p=0.5, n=1000000)\n",
    "plt.hist(b, bins=20)\n",
    "plt.show()"
   ]
  },
  {
   "cell_type": "code",
   "execution_count": null,
   "id": "d57d44dd-c1f2-4641-b55d-edfabddd9787",
   "metadata": {},
   "outputs": [],
   "source": [
    "b = rv.geometric(p=0.9, n=1000000)\n",
    "plt.hist(b, bins=10)\n",
    "plt.show()"
   ]
  },
  {
   "cell_type": "markdown",
   "id": "3b8eceb0-5857-48fb-bb7e-3310bdb6d63c",
   "metadata": {},
   "source": [
    "# NegBin"
   ]
  },
  {
   "cell_type": "code",
   "execution_count": null,
   "id": "4ed1d96c-81fe-4a0f-9a72-67cdb5934be3",
   "metadata": {},
   "outputs": [],
   "source": [
    "import sys\n",
    "sys.path.append(\"../../\")\n",
    "\n",
    "import numpy as np\n",
    "from RV import RandomVariates\n",
    "import plotly.express as px\n",
    "import plotly.graph_objects as go\n",
    "import matplotlib.pyplot as plt\n",
    "from mpl_toolkits.mplot3d import Axes3D\n",
    "%matplotlib inline\n",
    "\n",
    "rv = RandomVariates()"
   ]
  },
  {
   "cell_type": "code",
   "execution_count": null,
   "id": "e9eefa79-98de-4025-8c8a-62690056c434",
   "metadata": {},
   "outputs": [],
   "source": [
    "# long rk_negative_binomial(rk_state *state, double n, double p)\n",
    "# {\n",
    "#     double Y;\n",
    "\n",
    "#     Y = rk_gamma(state, n, (1-p)/p);\n",
    "#     return rk_poisson(state, Y);\n",
    "# }"
   ]
  },
  {
   "cell_type": "code",
   "execution_count": null,
   "id": "478a91a2-bde4-4f4b-8813-d3df3fd593a4",
   "metadata": {},
   "outputs": [],
   "source": [
    "# K = 0;\n",
    "# p = 0.2;\n",
    "# r = 2;\n",
    "# success = 0;\n",
    "# while success < r: \n",
    "#     if rv.uniform() > p:\n",
    "#         K = K + 1;\n",
    "#     else:\n",
    "#         success = success + 1;\n",
    "# K + r - 1 #Number of trials needed to obtain r successes"
   ]
  },
  {
   "cell_type": "code",
   "execution_count": null,
   "id": "b42c0309-9cb7-4c27-91ca-ab87a8c88c21",
   "metadata": {},
   "outputs": [],
   "source": [
    "# def negbin(r=2, p=0.2):\n",
    "#     K = 0;\n",
    "#     success = 0;\n",
    "#     while success < r: \n",
    "#         if np.random.uniform() > p:\n",
    "#         #if rv.uniform() > p:\n",
    "#             K = K + 1;\n",
    "#         else:\n",
    "#             success = success + 1;\n",
    "#     return K + r - 1 #Number of trials needed to obtain r successes"
   ]
  },
  {
   "cell_type": "code",
   "execution_count": null,
   "id": "bef467d9-a8ea-4a93-870f-5316cfdfb47a",
   "metadata": {},
   "outputs": [],
   "source": [
    "# negbin(r=2, p=0.5)"
   ]
  },
  {
   "cell_type": "code",
   "execution_count": null,
   "id": "fa958059-a378-4c65-93ba-dddf438c208d",
   "metadata": {},
   "outputs": [],
   "source": [
    "print(np.random.negative_binomial(n=2, p=0.2, size=10))\n",
    "#print([negbin(r=2, p=0.2) for _ in range(10)])\n",
    "print(rv.negbin(t=2, p=0.2, n=10))"
   ]
  },
  {
   "cell_type": "code",
   "execution_count": null,
   "id": "1457af6c-bf4a-438a-a202-253b162cbe32",
   "metadata": {},
   "outputs": [],
   "source": [
    "nb = np.random.negative_binomial(n=4, p=0.2, size=1000000)\n",
    "plt.hist(nb, bins=100)\n",
    "plt.show()"
   ]
  },
  {
   "cell_type": "code",
   "execution_count": null,
   "id": "b29d8f7a-16ff-4bb6-8a9a-e7ac5d513b44",
   "metadata": {},
   "outputs": [],
   "source": [
    "nb = rv.negbin(t=4, p=0.2, n=1000000)\n",
    "plt.hist(nb, bins=100)\n",
    "plt.show()"
   ]
  },
  {
   "cell_type": "markdown",
   "id": "f1f61def-8d7c-400c-9146-3ed1d7c310ad",
   "metadata": {},
   "source": [
    "# Chi Square"
   ]
  },
  {
   "cell_type": "markdown",
   "id": "b71bc7b4-e657-4359-aec3-ca809174848a",
   "metadata": {},
   "source": [
    "\n",
    "$\n",
    "\\begin{align}\n",
    "Q = \\sum_{i=0}^{\\mathtt{df}} X^2_i\n",
    "\\end{align}\n",
    "$"
   ]
  },
  {
   "cell_type": "code",
   "execution_count": null,
   "id": "60eab639-e1c3-4cdb-8654-a324cd224729",
   "metadata": {},
   "outputs": [],
   "source": [
    "import sys\n",
    "sys.path.append(\"../../\")\n",
    "\n",
    "import numpy as np\n",
    "from RV import RandomVariates\n",
    "import plotly.express as px\n",
    "import plotly.graph_objects as go\n",
    "import matplotlib.pyplot as plt\n",
    "from mpl_toolkits.mplot3d import Axes3D\n",
    "%matplotlib inline\n",
    "\n",
    "rv = RandomVariates()"
   ]
  },
  {
   "cell_type": "code",
   "execution_count": null,
   "id": "bc92c3f2-1f2f-4390-9d22-99f992e50c35",
   "metadata": {},
   "outputs": [],
   "source": [
    "cs = np.random.chisquare(df=1, size=1000000)\n",
    "plt.hist(cs, bins=100)\n",
    "plt.show()"
   ]
  },
  {
   "cell_type": "code",
   "execution_count": null,
   "id": "ae27ec3c-7c21-4941-9527-d0babfe51e90",
   "metadata": {},
   "outputs": [],
   "source": [
    "cs = rv.chisq(df=1, n=1000000)\n",
    "plt.hist(cs, bins=100)\n",
    "plt.show()"
   ]
  },
  {
   "cell_type": "code",
   "execution_count": null,
   "id": "4f1be04e-f615-4bce-92aa-52043eacbae8",
   "metadata": {},
   "outputs": [],
   "source": [
    "cs = np.random.chisquare(df=10, size=1000000)\n",
    "plt.hist(cs, bins=1000)\n",
    "plt.show()"
   ]
  },
  {
   "cell_type": "code",
   "execution_count": null,
   "id": "f898f669-dd10-41bc-b578-bc425e950b41",
   "metadata": {},
   "outputs": [],
   "source": [
    "cs = rv.chisq(df=10, n=1000000)\n",
    "plt.hist(cs, bins=1000)\n",
    "plt.show()"
   ]
  },
  {
   "cell_type": "markdown",
   "id": "815962f0-9e4a-4410-b54e-d23a84ffdd8e",
   "metadata": {},
   "source": [
    "# Poisson"
   ]
  },
  {
   "cell_type": "code",
   "execution_count": null,
   "id": "b7535a72-77ea-4f6b-a194-742d332d6289",
   "metadata": {},
   "outputs": [],
   "source": [
    "import sys\n",
    "sys.path.append(\"../../\")\n",
    "\n",
    "import numpy as np\n",
    "from RV import RandomVariates\n",
    "import plotly.express as px\n",
    "import plotly.graph_objects as go\n",
    "import matplotlib.pyplot as plt\n",
    "from mpl_toolkits.mplot3d import Axes3D\n",
    "%matplotlib inline\n",
    "\n",
    "rv = RandomVariates()"
   ]
  },
  {
   "cell_type": "code",
   "execution_count": null,
   "id": "64ef0ad5-e23e-4c2a-8d57-93e655638c88",
   "metadata": {},
   "outputs": [],
   "source": [
    "# def poisson(lam=1, n=1):\n",
    "#     p = []\n",
    "#     for _ in range(n):\n",
    "#         t = 0 # initialize sum of exponential variables as zero\n",
    "#         n = -1 # initialize counting variable as negative one\n",
    "#         while t < 1:\n",
    "#             e = rv.exponential(lam=lam)[0]\n",
    "#             t += e\n",
    "#             n += 1\n",
    "#         p.append(n)\n",
    "#     return np.array(p)"
   ]
  },
  {
   "cell_type": "markdown",
   "id": "aa8534cd-f07d-408d-9dcd-6f039e0098cb",
   "metadata": {},
   "source": [
    "# Gamma\n",
    "\n",
    "$\n",
    "\\begin{align}\n",
    "p(x) = x^{k-1}\\frac{e^{-x/\\theta}}{\\theta^k\\Gamma(k)}\n",
    "\\end{align}\n",
    "$"
   ]
  },
  {
   "cell_type": "code",
   "execution_count": null,
   "id": "6a9d4d8c-7a6c-4bde-ae57-91540c168fb7",
   "metadata": {},
   "outputs": [],
   "source": [
    "import sys\n",
    "sys.path.append(\"../../\")\n",
    "\n",
    "import numpy as np\n",
    "from RV import RandomVariates\n",
    "import plotly.express as px\n",
    "import plotly.graph_objects as go\n",
    "import matplotlib.pyplot as plt\n",
    "from mpl_toolkits.mplot3d import Axes3D\n",
    "%matplotlib inline\n",
    "\n",
    "rv = RandomVariates()"
   ]
  },
  {
   "cell_type": "code",
   "execution_count": null,
   "id": "55bea019-2c16-4e60-bf3d-3f695ed463e3",
   "metadata": {},
   "outputs": [],
   "source": [
    "gs = rv.gamma(k=3, theta=1, n=100000)\n",
    "plt.hist(gs, bins=1000)\n",
    "plt.show()"
   ]
  },
  {
   "cell_type": "code",
   "execution_count": null,
   "id": "c5fbbf2a-5bd0-4826-bce6-b79775a6221f",
   "metadata": {},
   "outputs": [],
   "source": [
    "ngs = np.random.gamma(shape=3, scale=1, size=100000)\n",
    "plt.hist(ngs, bins=1000)\n",
    "plt.show()"
   ]
  },
  {
   "cell_type": "code",
   "execution_count": null,
   "id": "0f7634ff-24a8-4b82-a773-354bca101f39",
   "metadata": {},
   "outputs": [],
   "source": [
    "gs = rv.gamma(k=3, theta=10, n=100000)\n",
    "ngs = np.random.gamma(shape=3, scale=10, size=100000)\n",
    "print(np.mean(gs))\n",
    "print(np.mean(ngs))"
   ]
  },
  {
   "cell_type": "code",
   "execution_count": null,
   "id": "878567b1-5ea9-4c22-aced-eaf479ebe22b",
   "metadata": {},
   "outputs": [],
   "source": [
    "gs = rv.gamma(k=1.0, theta=1.0, n=100000)\n",
    "plt.hist(gs, bins=1000)\n",
    "plt.show()"
   ]
  },
  {
   "cell_type": "markdown",
   "id": "18a8b1ff-2305-4fda-b836-4df53c43768f",
   "metadata": {},
   "source": [
    "# lognormal"
   ]
  },
  {
   "cell_type": "code",
   "execution_count": null,
   "id": "56b037f9-cd4d-4db8-9641-76e22cfe07d4",
   "metadata": {},
   "outputs": [],
   "source": [
    "import sys\n",
    "sys.path.append(\"../../\")\n",
    "\n",
    "import numpy as np\n",
    "from RV import RandomVariates\n",
    "import plotly.express as px\n",
    "import plotly.graph_objects as go\n",
    "import matplotlib.pyplot as plt\n",
    "from mpl_toolkits.mplot3d import Axes3D\n",
    "%matplotlib inline\n",
    "\n",
    "rv = RandomVariates()"
   ]
  },
  {
   "cell_type": "code",
   "execution_count": null,
   "id": "bcf603ea-869d-44f0-8d34-5ad32aacbc40",
   "metadata": {},
   "outputs": [],
   "source": [
    "Z=rv.norm(mu=0, sd=0.25, n=1000000)\n",
    "ln = np.e**Z\n",
    "\n",
    "plt.hist(ln, bins=1000)\n",
    "plt.show()"
   ]
  },
  {
   "cell_type": "code",
   "execution_count": null,
   "id": "b0ae2ce3-c963-4240-a7ff-a758e2a9f0b0",
   "metadata": {},
   "outputs": [],
   "source": [
    "Z=rv.norm(mu=0, sd=0.5, n=1000000)\n",
    "ln = np.e**Z\n",
    "\n",
    "plt.hist(ln, bins=1000)\n",
    "plt.show()"
   ]
  },
  {
   "cell_type": "code",
   "execution_count": null,
   "id": "b9e1b693-6390-45d6-bdbd-b5dfef63eda4",
   "metadata": {},
   "outputs": [],
   "source": [
    "Z=rv.norm(mu=0, sd=1, n=1000000)\n",
    "ln = np.e**Z\n",
    "\n",
    "plt.hist(ln, bins=1000)\n",
    "plt.show()"
   ]
  },
  {
   "cell_type": "code",
   "execution_count": null,
   "id": "d3520663-febf-480e-b35e-335fa43a316f",
   "metadata": {},
   "outputs": [],
   "source": [
    "ln = np.random.lognormal(mean=0,sigma=1, size=1000000)\n",
    "plt.hist(ln, bins=1000)\n",
    "plt.show()"
   ]
  },
  {
   "cell_type": "markdown",
   "id": "2a1055ce-1204-4d78-9627-0adcbf40aecf",
   "metadata": {},
   "source": [
    "# Beta"
   ]
  },
  {
   "cell_type": "code",
   "execution_count": null,
   "id": "f68bf2e2-3a20-4e84-95ed-3856cd041c20",
   "metadata": {},
   "outputs": [],
   "source": [
    "import sys\n",
    "sys.path.append(\"../../\")\n",
    "\n",
    "import numpy as np\n",
    "from RV import RandomVariates\n",
    "import plotly.express as px\n",
    "import plotly.graph_objects as go\n",
    "import matplotlib.pyplot as plt\n",
    "from mpl_toolkits.mplot3d import Axes3D\n",
    "%matplotlib inline\n",
    "\n",
    "rv = RandomVariates()"
   ]
  },
  {
   "cell_type": "code",
   "execution_count": null,
   "id": "2dc2ba53-c3a0-460f-8178-2a43ac9b5132",
   "metadata": {},
   "outputs": [],
   "source": [
    "b = np.random.beta(a=1, b=1, size=1000000)\n",
    "\n",
    "plt.hist(b, bins=1000)\n",
    "plt.show()"
   ]
  },
  {
   "cell_type": "code",
   "execution_count": null,
   "id": "b4c19ee1-a6f8-474a-897e-a9424e9f263c",
   "metadata": {},
   "outputs": [],
   "source": [
    "b = rv.beta(a=1, b=1, n=1000000)\n",
    "\n",
    "plt.hist(b, bins=1000)\n",
    "plt.show()"
   ]
  },
  {
   "cell_type": "code",
   "execution_count": null,
   "id": "583574f5-9f16-4287-b43d-7f8d3490dc51",
   "metadata": {},
   "outputs": [],
   "source": [
    "b = np.random.beta(a=2, b=2, size=1000000)\n",
    "\n",
    "plt.hist(b, bins=1000)\n",
    "plt.show()"
   ]
  },
  {
   "cell_type": "code",
   "execution_count": null,
   "id": "2d89cb21-c4ed-4a8c-9f86-974b4a9f408c",
   "metadata": {},
   "outputs": [],
   "source": [
    "b = rv.beta(a=2, b=2, n=1000000)\n",
    "\n",
    "plt.hist(b, bins=1000)\n",
    "plt.show()"
   ]
  },
  {
   "cell_type": "code",
   "execution_count": null,
   "id": "020a01a4-c484-46cb-9d76-6dccbdd11f87",
   "metadata": {},
   "outputs": [],
   "source": [
    "b = np.random.beta(a=3, b=3, size=1000000)\n",
    "\n",
    "plt.hist(b, bins=1000)\n",
    "plt.show()"
   ]
  },
  {
   "cell_type": "code",
   "execution_count": null,
   "id": "65ac3d9e-06d7-475e-ad2a-9c4b8f51208a",
   "metadata": {},
   "outputs": [],
   "source": [
    "b = rv.beta(a=3, b=3, n=1000000)\n",
    "\n",
    "plt.hist(b, bins=1000)\n",
    "plt.show()"
   ]
  },
  {
   "cell_type": "code",
   "execution_count": null,
   "id": "c1f04e0c-2a03-45c6-96a1-deee7e7d0294",
   "metadata": {},
   "outputs": [],
   "source": [
    "b = np.random.beta(a=2, b=5, size=1000000)\n",
    "\n",
    "plt.hist(b, bins=1000)\n",
    "plt.show()"
   ]
  },
  {
   "cell_type": "code",
   "execution_count": null,
   "id": "dad25a20-1928-4960-b99a-9d68d822ade7",
   "metadata": {},
   "outputs": [],
   "source": [
    "b = rv.beta(a=2, b=5, n=1000000)\n",
    "\n",
    "plt.hist(b, bins=1000)\n",
    "plt.show()"
   ]
  },
  {
   "cell_type": "code",
   "execution_count": 3,
   "id": "6683c26a-4d60-4a59-bfa0-19cc34cb0d13",
   "metadata": {},
   "outputs": [],
   "source": [
    "# !pip install randvariates"
   ]
  },
  {
   "cell_type": "code",
   "execution_count": 6,
   "id": "8f737bb9-37c5-4a58-a4cf-ec4debf834cc",
   "metadata": {},
   "outputs": [
    {
     "ename": "ModuleNotFoundError",
     "evalue": "No module named 'RV'",
     "output_type": "error",
     "traceback": [
      "\u001b[0;31m---------------------------------------------------------------------------\u001b[0m",
      "\u001b[0;31mModuleNotFoundError\u001b[0m                       Traceback (most recent call last)",
      "\u001b[0;32m<ipython-input-6-92b837c1b813>\u001b[0m in \u001b[0;36m<module>\u001b[0;34m\u001b[0m\n\u001b[0;32m----> 1\u001b[0;31m \u001b[0;32mimport\u001b[0m \u001b[0mRV\u001b[0m\u001b[0;34m\u001b[0m\u001b[0;34m\u001b[0m\u001b[0m\n\u001b[0m",
      "\u001b[0;31mModuleNotFoundError\u001b[0m: No module named 'RV'"
     ]
    }
   ],
   "source": [
    "import RV"
   ]
  },
  {
   "cell_type": "code",
   "execution_count": null,
   "id": "4442a625-81ab-480e-9301-48f603063f3a",
   "metadata": {},
   "outputs": [],
   "source": []
  }
 ],
 "metadata": {
  "kernelspec": {
   "display_name": "Python 3",
   "language": "python",
   "name": "python3"
  },
  "language_info": {
   "codemirror_mode": {
    "name": "ipython",
    "version": 3
   },
   "file_extension": ".py",
   "mimetype": "text/x-python",
   "name": "python",
   "nbconvert_exporter": "python",
   "pygments_lexer": "ipython3",
   "version": "3.8.2"
  }
 },
 "nbformat": 4,
 "nbformat_minor": 5
}
