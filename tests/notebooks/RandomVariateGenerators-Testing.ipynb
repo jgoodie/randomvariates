{
 "cells": [
  {
   "cell_type": "markdown",
   "id": "e28a5c4b-315c-451f-beed-0bc3dfc224cb",
   "metadata": {
    "tags": []
   },
   "source": [
    "### Very important regarding the Inverse Transform Theorem and this project\n",
    "#### https://www.youtube.com/watch?v=9ixzzPQWuAY\n",
    "\n",
    "\n",
    "#### How to create a pip package: \n",
    "##### https://dzone.com/articles/executable-package-pip-install\n"
   ]
  },
  {
   "cell_type": "markdown",
   "id": "5ad243c4-57d9-4d40-86e9-e9916ba5e60d",
   "metadata": {},
   "source": [
    "#### To create 3-D scatter plots\n",
    "#### https://stackoverflow.com/questions/1985856/how-to-make-a-3d-scatter-plot-in-python"
   ]
  },
  {
   "cell_type": "code",
   "execution_count": null,
   "id": "a2229612-b13c-43e6-b1d1-071860b6efe6",
   "metadata": {},
   "outputs": [],
   "source": [
    "import numpy as np\n",
    "from RV import RandomVariates\n",
    "import plotly.express as px\n",
    "import plotly.graph_objects as go\n",
    "import matplotlib.pyplot as plt\n",
    "from mpl_toolkits.mplot3d import Axes3D\n",
    "%matplotlib inline\n",
    "\n",
    "# %pylab inline"
   ]
  },
  {
   "cell_type": "markdown",
   "id": "e67a47a8-b11f-48fd-a467-e8898dca50ca",
   "metadata": {},
   "source": [
    "# Uniform Testing"
   ]
  },
  {
   "cell_type": "code",
   "execution_count": null,
   "id": "08b5eac8-68fc-41ca-aad3-061631f745a6",
   "metadata": {},
   "outputs": [],
   "source": [
    "rv = RandomVariates()"
   ]
  },
  {
   "cell_type": "code",
   "execution_count": null,
   "id": "e6e4425e-bb94-4169-82ce-651083f8f249",
   "metadata": {},
   "outputs": [],
   "source": [
    "rv.set_seed(1234)\n",
    "rv.uniform(n=20)"
   ]
  },
  {
   "cell_type": "code",
   "execution_count": null,
   "id": "1d4d4729-c686-4d48-94ae-d659cba4b3cb",
   "metadata": {},
   "outputs": [],
   "source": [
    "rv.set_seed(42)\n",
    "unifs = rv.uniform(n=1000000)\n",
    "print(np.mean(unifs))\n",
    "print(np.var(unifs)) # 1/12 = 0.0833333333\n",
    "print(np.std(unifs))"
   ]
  },
  {
   "cell_type": "code",
   "execution_count": null,
   "id": "513093f5-9787-4146-8433-da450e90f8eb",
   "metadata": {},
   "outputs": [],
   "source": [
    "rv.set_seed(0)\n",
    "unifs = rv.uniform(n=1000000)\n",
    "print(np.mean(unifs))\n",
    "\n",
    "plt.hist(unifs, bins=1000)\n",
    "plt.show()"
   ]
  },
  {
   "cell_type": "code",
   "execution_count": null,
   "id": "0515d5d6-fd9e-4cdb-b8c4-1da45598121f",
   "metadata": {},
   "outputs": [],
   "source": [
    "rv.set_seed(23)\n",
    "x = rv.uniform(n=100000)\n",
    "y = rv.uniform(n=100000)\n",
    "\n",
    "plt.scatter(x, y, s=0.8, alpha=0.2)\n",
    "plt.show()"
   ]
  },
  {
   "cell_type": "code",
   "execution_count": null,
   "id": "7ad9b45f-0205-4576-92ec-78ed4f5fd80c",
   "metadata": {},
   "outputs": [],
   "source": [
    "rv.set_seed(456)\n",
    "print(rv.get_seed())\n",
    "rv.uniform(n=1)"
   ]
  },
  {
   "cell_type": "code",
   "execution_count": null,
   "id": "505d02d5-d4ad-4ab3-84ae-98cfa08c87bb",
   "metadata": {},
   "outputs": [],
   "source": [
    "rv.set_seed(0)\n",
    "x = rv.uniform(n=100000)\n",
    "rv.set_seed(1)\n",
    "y = rv.uniform(n=100000)\n",
    "\n",
    "plt.scatter(x, y, s=0.8, alpha=0.2)\n",
    "plt.show()"
   ]
  },
  {
   "cell_type": "code",
   "execution_count": null,
   "id": "fa47ea85-060b-4148-9e0c-b7976c3e86d7",
   "metadata": {},
   "outputs": [],
   "source": [
    "x = RandomVariates()\n",
    "x.set_seed(42)\n",
    "y = RandomVariates()\n",
    "y.set_seed(43)\n",
    "\n",
    "\n",
    "plt.scatter(x.uniform(n=100000), y.uniform(n=100000), s=0.8, alpha=0.2)\n",
    "plt.show()"
   ]
  },
  {
   "cell_type": "code",
   "execution_count": null,
   "id": "a8ec47c3-4c35-4965-913e-57da57d24069",
   "metadata": {},
   "outputs": [],
   "source": [
    "x = RandomVariates()\n",
    "x.set_seed(1*3.141)\n",
    "\n",
    "y = RandomVariates()\n",
    "y.set_seed(2*3.141)\n",
    "\n",
    "z = RandomVariates()\n",
    "z.set_seed(3*3.141)\n",
    "\n",
    "fig = plt.figure()\n",
    "ax = Axes3D(fig, auto_add_to_figure=False, azim=45)\n",
    "fig.add_axes(ax)\n",
    "\n",
    "sequence_containing_x_vals = x.uniform(n=100000)\n",
    "sequence_containing_y_vals = y.uniform(n=100000)\n",
    "sequence_containing_z_vals = z.uniform(n=100000)\n",
    "\n",
    "ax.scatter(sequence_containing_x_vals, sequence_containing_y_vals, sequence_containing_z_vals, s=0.8, alpha=0.1)\n",
    "plt.show()"
   ]
  },
  {
   "cell_type": "code",
   "execution_count": null,
   "id": "e6f0a160-52e5-4525-8bfc-a788f727dbb7",
   "metadata": {},
   "outputs": [],
   "source": [
    "rv = RandomVariates()\n",
    "u1 = []\n",
    "u2 = []\n",
    "for _ in range(100000):\n",
    "    u1.append(rv.uniform()[0])\n",
    "    u2.append(rv.uniform()[0])\n",
    "    \n",
    "plt.scatter(u1, u2, s=0.8, alpha=0.2)\n",
    "plt.show()"
   ]
  },
  {
   "cell_type": "markdown",
   "id": "ba880a4e-7755-4b43-8a2b-a6e054f06dec",
   "metadata": {},
   "source": [
    "# Normal Testing"
   ]
  },
  {
   "cell_type": "code",
   "execution_count": null,
   "id": "80e94540-ab10-4d67-9f5d-bbb31ba5e99f",
   "metadata": {},
   "outputs": [],
   "source": [
    "rv = RandomVariates()"
   ]
  },
  {
   "cell_type": "code",
   "execution_count": null,
   "id": "052731d4-a9c5-48e5-9502-4095ca5c9acb",
   "metadata": {},
   "outputs": [],
   "source": [
    "rv.set_seed(234)\n",
    "rv.norm()"
   ]
  },
  {
   "cell_type": "code",
   "execution_count": null,
   "id": "f0c84bc7-e448-4c66-94d6-9da9c4cd2dde",
   "metadata": {},
   "outputs": [],
   "source": [
    "rv.norm(mu=0, sd=1, n=5)"
   ]
  },
  {
   "cell_type": "code",
   "execution_count": null,
   "id": "b5b941a4-3d36-42a7-9530-970e45938e24",
   "metadata": {},
   "outputs": [],
   "source": [
    "rv.set_seed(0) # 12297135\n",
    "z = rv.norm(mu=0.0, sd=1, n=1000000)\n",
    "mean = np.mean(z)\n",
    "var = np.var(z)\n",
    "sd = np.std(z)\n",
    "print(mean)\n",
    "print(var)\n",
    "print(sd)"
   ]
  },
  {
   "cell_type": "code",
   "execution_count": null,
   "id": "c8da88ab-aa29-4f50-9a80-4285bd399a2a",
   "metadata": {},
   "outputs": [],
   "source": [
    "rv.set_seed(0)\n",
    "z = rv.norm(mu=0, sd=1, n=1000000)\n",
    "plt.hist(z, bins=1000)\n",
    "plt.show()"
   ]
  },
  {
   "cell_type": "code",
   "execution_count": null,
   "id": "0011b9b6-8795-4c9b-b1f6-2d1406003111",
   "metadata": {},
   "outputs": [],
   "source": [
    "rv.set_seed(12345678)\n",
    "z = rv.norm(mu=0, sd=1, n=1000000)\n",
    "plt.hist(z, bins=1000)\n",
    "plt.show()"
   ]
  },
  {
   "cell_type": "code",
   "execution_count": null,
   "id": "c0161a23-e2dc-4237-82c9-ce9486efd7ad",
   "metadata": {},
   "outputs": [],
   "source": [
    "rv1 = RandomVariates()\n",
    "rv2 = RandomVariates()\n",
    "z1 = rv1.norm(mu=0, sd=1, n=1000000)\n",
    "z2 = rv2.norm(mu=0, sd=1, n=1000000)\n",
    "\n",
    "plt.scatter(z1, z2, s=0.8, alpha=0.2)\n",
    "plt.show()"
   ]
  },
  {
   "cell_type": "code",
   "execution_count": null,
   "id": "76975be9-781b-488d-91a8-06cdeb7427ca",
   "metadata": {},
   "outputs": [],
   "source": [
    "rv1 = RandomVariates()\n",
    "rv2 = RandomVariates()\n",
    "rv3 = RandomVariates()\n",
    "x = rv1.norm(mu=0, sd=1, n=100000)\n",
    "y = rv2.norm(mu=0, sd=1, n=100000)\n",
    "z = rv3.norm(mu=0, sd=1, n=100000)\n",
    "\n",
    "fig = plt.figure()\n",
    "ax = Axes3D(fig, auto_add_to_figure=False, azim=-60)\n",
    "fig.add_axes(ax)\n",
    "\n",
    "sequence_containing_x_vals = x\n",
    "sequence_containing_y_vals = y\n",
    "sequence_containing_z_vals = z\n",
    "\n",
    "ax.scatter(sequence_containing_x_vals, sequence_containing_y_vals, sequence_containing_z_vals, s=0.8, alpha=0.1)\n",
    "plt.show()"
   ]
  },
  {
   "cell_type": "code",
   "execution_count": null,
   "id": "3b6559c7-e3c1-495e-98e5-e065e95945ef",
   "metadata": {},
   "outputs": [],
   "source": [
    "rv1 = RandomVariates()\n",
    "rv2 = RandomVariates()\n",
    "rv3 = RandomVariates()\n",
    "rv1.set_seed(1)\n",
    "rv2.set_seed(2)\n",
    "rv3.set_seed(3)\n",
    "x = rv1.norm(mu=0, sd=1, n=100000)\n",
    "y = rv2.norm(mu=0, sd=1, n=100000)\n",
    "z = rv3.norm(mu=0, sd=1, n=100000)\n",
    "\n",
    "# fig = go.Figure(data=[go.Scatter3d(x=x, y=y, z=z,mode='markers')])\n",
    "fig = go.FigureWidget(data=[go.Scatter3d(x=x, y=y, z=z, mode='markers', opacity=0.5, marker=dict(size=2))])\n",
    "fig.show()"
   ]
  },
  {
   "cell_type": "markdown",
   "id": "555784c3-a3a3-4ba2-b0a3-7303a0277a43",
   "metadata": {},
   "source": [
    "# Exponential"
   ]
  },
  {
   "cell_type": "code",
   "execution_count": null,
   "id": "01584077-f59a-4a24-8eb9-4b2185ad8bb8",
   "metadata": {},
   "outputs": [],
   "source": [
    "rv = RandomVariates()"
   ]
  },
  {
   "cell_type": "code",
   "execution_count": null,
   "id": "40dd79bc-d99f-4908-aec9-a50ebd585d8f",
   "metadata": {},
   "outputs": [],
   "source": [
    "rv.set_seed(42)\n",
    "rv.exponential(lam=3, n=10)"
   ]
  },
  {
   "cell_type": "code",
   "execution_count": null,
   "id": "5dfb1365-2540-434a-86ea-4327657e1a4b",
   "metadata": {},
   "outputs": [],
   "source": [
    "# mean = 1/lam\n",
    "# var = 1/lam^2\n",
    "rv.set_seed(0) # 12297135\n",
    "z = rv.exponential(lam=2, n=1000000)\n",
    "mean = np.mean(z)\n",
    "var = np.var(z)\n",
    "sd = np.std(z)\n",
    "print(f'mean: {mean}')\n",
    "print(f'var: {var}')\n",
    "print(f'sd: {sd}')"
   ]
  },
  {
   "cell_type": "code",
   "execution_count": null,
   "id": "19681f74-3f77-4a55-be68-e1057e0cc339",
   "metadata": {},
   "outputs": [],
   "source": [
    "rv.set_seed(0)\n",
    "z = rv.exponential(lam=1, n=1000000)\n",
    "plt.hist(z, bins=1000)\n",
    "plt.show()"
   ]
  },
  {
   "cell_type": "code",
   "execution_count": null,
   "id": "e647fba6-5787-430b-9e79-a241229f1d8c",
   "metadata": {},
   "outputs": [],
   "source": [
    "rv.set_seed(0)\n",
    "z = rv.exponential(lam=1/4, n=1000000)\n",
    "plt.hist(z, bins=1000)\n",
    "plt.show()"
   ]
  },
  {
   "cell_type": "code",
   "execution_count": null,
   "id": "209e98fc-a21c-4c76-9ff2-d843264b8cd2",
   "metadata": {},
   "outputs": [],
   "source": [
    "rv.exponential(lam=0, n=10)"
   ]
  },
  {
   "cell_type": "code",
   "execution_count": null,
   "id": "e85a1f94-5c46-49f8-9eac-35f1f248212d",
   "metadata": {},
   "outputs": [],
   "source": [
    "rv1 = RandomVariates()\n",
    "rv2 = RandomVariates()\n",
    "z1 = rv1.exponential(lam=1,n=1000000)\n",
    "z2 = rv2.exponential(lam=1,n=1000000)\n",
    "\n",
    "plt.scatter(z1, z2, s=0.8, alpha=0.2)\n",
    "plt.show()"
   ]
  },
  {
   "cell_type": "code",
   "execution_count": null,
   "id": "e36ee435-feda-454e-be9c-5232f15e9206",
   "metadata": {},
   "outputs": [],
   "source": [
    "rv1 = RandomVariates()\n",
    "rv1.set_seed(0)\n",
    "rv2 = RandomVariates()\n",
    "rv2.set_seed(1)\n",
    "z1 = rv1.exponential(lam=1,n=1000000)\n",
    "z2 = rv2.exponential(lam=1,n=1000000)\n",
    "\n",
    "plt.scatter(z1, z2, s=0.8, alpha=0.2)\n",
    "plt.show()"
   ]
  },
  {
   "cell_type": "code",
   "execution_count": null,
   "id": "eb417ea1-9d60-43ad-90e9-e589e1787f6e",
   "metadata": {},
   "outputs": [],
   "source": [
    "rv1 = RandomVariates()\n",
    "rv2 = RandomVariates()\n",
    "rv3 = RandomVariates()\n",
    "x = rv1.exponential(lam=1,n=1000000)\n",
    "y = rv2.exponential(lam=1,n=1000000)\n",
    "z = rv3.exponential(lam=1,n=1000000)\n",
    "\n",
    "fig = plt.figure()\n",
    "ax = Axes3D(fig, auto_add_to_figure=False, azim=30)\n",
    "fig.add_axes(ax)\n",
    "\n",
    "sequence_containing_x_vals = x\n",
    "sequence_containing_y_vals = y\n",
    "sequence_containing_z_vals = z\n",
    "\n",
    "ax.scatter(sequence_containing_x_vals, sequence_containing_y_vals, sequence_containing_z_vals, s=0.8, alpha=0.1)\n",
    "plt.show()"
   ]
  },
  {
   "cell_type": "code",
   "execution_count": null,
   "id": "acdfdf66-a2d4-4f63-934e-7f99751cca95",
   "metadata": {},
   "outputs": [],
   "source": [
    "rv1 = RandomVariates()\n",
    "rv2 = RandomVariates()\n",
    "rv3 = RandomVariates()\n",
    "rv1.set_seed(1)\n",
    "rv2.set_seed(2)\n",
    "rv3.set_seed(3)\n",
    "x = rv1.exponential(lam=1,n=1000000)\n",
    "y = rv2.exponential(lam=1,n=1000000)\n",
    "z = rv3.exponential(lam=1,n=1000000)\n",
    "\n",
    "fig = plt.figure()\n",
    "ax = Axes3D(fig, auto_add_to_figure=False, azim=60)\n",
    "fig.add_axes(ax)\n",
    "\n",
    "sequence_containing_x_vals = x\n",
    "sequence_containing_y_vals = y\n",
    "sequence_containing_z_vals = z\n",
    "\n",
    "ax.scatter(sequence_containing_x_vals, sequence_containing_y_vals, sequence_containing_z_vals, s=0.8, alpha=0.1)\n",
    "plt.show()"
   ]
  },
  {
   "cell_type": "code",
   "execution_count": null,
   "id": "93af33cd-c07c-424b-827c-fd34c7698ebb",
   "metadata": {},
   "outputs": [],
   "source": [
    "rv1 = RandomVariates()\n",
    "rv2 = RandomVariates()\n",
    "rv3 = RandomVariates()\n",
    "rv1.set_seed(1)\n",
    "rv2.set_seed(2)\n",
    "rv3.set_seed(3)\n",
    "x = rv1.exponential(lam=1,n=10000)\n",
    "y = rv2.exponential(lam=1,n=10000)\n",
    "z = rv3.exponential(lam=1,n=10000)\n",
    "\n",
    "# fig = go.Figure(data=[go.Scatter3d(x=x, y=y, z=z,mode='markers')])\n",
    "fig = go.FigureWidget(data=[go.Scatter3d(x=x, y=y, z=z, mode='markers', opacity=0.5, marker=dict(size=2))])\n",
    "fig.show()"
   ]
  },
  {
   "cell_type": "code",
   "execution_count": null,
   "id": "ea65fd90-d83f-4356-9f28-37346e98512b",
   "metadata": {},
   "outputs": [],
   "source": [
    "rv = RandomVariates()"
   ]
  },
  {
   "cell_type": "code",
   "execution_count": null,
   "id": "b192f3c6-a30c-48c8-ba24-48548edfac67",
   "metadata": {},
   "outputs": [],
   "source": [
    "rv.erlang(lam=1, k=1, n=10)"
   ]
  },
  {
   "cell_type": "code",
   "execution_count": null,
   "id": "22507a41-cc1e-4883-9af1-84a579e4f459",
   "metadata": {},
   "outputs": [],
   "source": [
    "z = rv.erlang(lam=1, k=1, n=1000000)\n",
    "plt.hist(z, bins=1000)\n",
    "plt.show()"
   ]
  },
  {
   "cell_type": "code",
   "execution_count": null,
   "id": "9775755e-9c3d-4ac1-b7ad-3db6567533e2",
   "metadata": {},
   "outputs": [],
   "source": [
    "z = rv.erlang(lam=1, k=2, n=1000000)\n",
    "plt.hist(z, bins=1000)\n",
    "plt.show()"
   ]
  },
  {
   "cell_type": "code",
   "execution_count": null,
   "id": "7c5c161a-d00b-4623-9a9a-fddd99ba6d27",
   "metadata": {},
   "outputs": [],
   "source": [
    "z = rv.erlang(lam=1, k=3, n=1000000)\n",
    "plt.hist(z, bins=1000)\n",
    "plt.show()"
   ]
  },
  {
   "cell_type": "code",
   "execution_count": null,
   "id": "19204726-45b3-4851-8762-1721754190ca",
   "metadata": {},
   "outputs": [],
   "source": [
    "z = rv.erlang(lam=1, k=4, n=1000000)\n",
    "plt.hist(z, bins=1000)\n",
    "plt.show()"
   ]
  },
  {
   "cell_type": "code",
   "execution_count": null,
   "id": "17f1a83d-fa65-41f5-b77e-c7921fa6e57c",
   "metadata": {},
   "outputs": [],
   "source": [
    "z = rv.erlang(lam=1, k=9, n=1000000)\n",
    "print(np.mean(z)) #k/lam\n",
    "print(np.var(z)) #k/lam^2\n",
    "\n",
    "plt.hist(z, bins=1000)\n",
    "plt.show()"
   ]
  },
  {
   "cell_type": "code",
   "execution_count": null,
   "id": "e71cdc23-acdc-4415-922e-212be5fec8ac",
   "metadata": {},
   "outputs": [],
   "source": []
  },
  {
   "cell_type": "code",
   "execution_count": null,
   "id": "908dd5af-344e-4fe2-948f-b78dec77d5af",
   "metadata": {},
   "outputs": [],
   "source": []
  }
 ],
 "metadata": {
  "kernelspec": {
   "display_name": "Python 3",
   "language": "python",
   "name": "python3"
  },
  "language_info": {
   "codemirror_mode": {
    "name": "ipython",
    "version": 3
   },
   "file_extension": ".py",
   "mimetype": "text/x-python",
   "name": "python",
   "nbconvert_exporter": "python",
   "pygments_lexer": "ipython3",
   "version": "3.8.2"
  }
 },
 "nbformat": 4,
 "nbformat_minor": 5
}
