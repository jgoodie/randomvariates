{
 "cells": [
  {
   "cell_type": "code",
   "execution_count": 1,
   "id": "16d1eb77-47cd-4851-992d-6b56f05b0fd1",
   "metadata": {},
   "outputs": [],
   "source": [
    "import sys\n",
    "sys.path.append(\"../../\")\n",
    "\n",
    "import numpy as np\n",
    "from randomvariates import random\n",
    "import scipy.stats as stats\n",
    "import plotly.express as px\n",
    "import plotly.graph_objects as go\n",
    "import matplotlib.pyplot as plt\n",
    "from mpl_toolkits.mplot3d import Axes3D\n",
    "%matplotlib inline\n",
    "\n",
    "rv = random.RandomVariates()"
   ]
  },
  {
   "cell_type": "markdown",
   "id": "899482d4-da25-4ef6-901c-cd7311206892",
   "metadata": {},
   "source": [
    "# Taus"
   ]
  },
  {
   "cell_type": "code",
   "execution_count": null,
   "id": "de995d28-2be1-4def-884e-3ee48176e28b",
   "metadata": {},
   "outputs": [],
   "source": [
    "rseed = rv.randseed()\n",
    "bstring = format(rseed,'b')\n",
    "b = [int(x) for x in bstring]\n",
    "blen = len(b)\n",
    "r = int(np.round(blen*0.25))\n",
    "q = int(np.round(blen*0.75))\n",
    "for _ in range(100):\n",
    "    bi = b[blen-r] ^ b[blen-q]\n",
    "    b.append(bi)\n",
    "    blen = len(b)"
   ]
  },
  {
   "cell_type": "code",
   "execution_count": null,
   "id": "09dd5d84-cb8c-42ab-adcd-84c3321dca45",
   "metadata": {},
   "outputs": [],
   "source": [
    "it = [iter(b)] * 5\n",
    "list(zip(*it))"
   ]
  },
  {
   "cell_type": "code",
   "execution_count": null,
   "id": "85117d64-f3ed-41cf-a6cf-15fa6e13dbf4",
   "metadata": {},
   "outputs": [],
   "source": [
    "''.join([str(x) for x in (1, 0, 1, 1, 1)])"
   ]
  },
  {
   "cell_type": "code",
   "execution_count": null,
   "id": "4991549f-ee4c-444b-8d41-779ada186628",
   "metadata": {},
   "outputs": [],
   "source": [
    "m = 100\n",
    "n = 1\n",
    "x = rv.taus(n=n*m)\n",
    "x = [str(i) for i in x]\n",
    "it = [iter(x)] * m\n",
    "#[int(''.join(s),2) for s in zip(*it)]\n",
    "[int(''.join(s),2)/(2**m) for s in zip(*it)]"
   ]
  },
  {
   "cell_type": "code",
   "execution_count": null,
   "id": "d689959a-737c-4531-8460-64af4cc3db3e",
   "metadata": {},
   "outputs": [],
   "source": [
    "m = 100\n",
    "n = 20\n",
    "x = rv.taus(n=(n*m))\n",
    "x = [str(i) for i in x]\n",
    "it = [iter(x)] * m\n",
    "obs = np.array([int(''.join(s),2)/(2**m) for s in zip(*it)])\n",
    "exp = np.array([0.50]*n)\n",
    "print(np.mean(obs))\n",
    "print(np.mean(exp))\n",
    "stats.chisquare(f_obs=obs, f_exp=exp)"
   ]
  },
  {
   "cell_type": "code",
   "execution_count": 11,
   "id": "a79a4ee6-874a-4852-a247-191ab1558935",
   "metadata": {},
   "outputs": [
    {
     "data": {
      "text/plain": [
       "array([0.54098542, 0.25528262, 0.40626349, 0.13737404, 0.22215641,\n",
       "       0.99229143, 0.02197239, 0.60439667, 0.79192154, 0.99281234,\n",
       "       0.29939461, 0.69684683, 0.15090201, 0.69714494, 0.00482833,\n",
       "       0.52397394, 0.34114284, 0.6449028 , 0.14812886, 0.53556646,\n",
       "       0.59483886, 0.6904866 , 0.67830914, 0.37298416, 0.70953078,\n",
       "       0.11428019, 0.13888814, 0.70139072, 0.70954062, 0.49956211,\n",
       "       0.53121531, 0.19679445, 0.92355513, 0.62138389, 0.68817496,\n",
       "       0.75614345, 0.96686518, 0.99410224, 0.18646787, 0.86524779,\n",
       "       0.82934321, 0.38498016, 0.26418757, 0.81049611, 0.1000011 ,\n",
       "       0.05026302, 0.09319407, 0.49666054, 0.58769108, 0.60013737,\n",
       "       0.9174341 , 0.28423883, 0.71685078, 0.42828531, 0.28377926,\n",
       "       0.09714203, 0.68840563, 0.89046425, 0.45420943, 0.3905052 ,\n",
       "       0.79602252, 0.37873901, 0.7796277 , 0.08572968, 0.92854045,\n",
       "       0.8930382 , 0.33293112, 0.06151731, 0.27299258, 0.25504687,\n",
       "       0.12395525, 0.87761113, 0.70672047, 0.02052553, 0.01982147,\n",
       "       0.89663492, 0.73935196, 0.5380595 , 0.29135098, 0.84060957,\n",
       "       0.40323706, 0.53597943, 0.66556375, 0.88395979, 0.89721133,\n",
       "       0.96674656, 0.52861186, 0.87771185, 0.60750611, 0.26659321,\n",
       "       0.48822706, 0.42385343, 0.61071971, 0.28771954, 0.13674507,\n",
       "       0.776947  , 0.75824375, 0.02435632, 0.37901263, 0.70814516])"
      ]
     },
     "execution_count": 11,
     "metadata": {},
     "output_type": "execute_result"
    }
   ],
   "source": [
    "rv.tausunif(n=100)"
   ]
  },
  {
   "cell_type": "code",
   "execution_count": null,
   "id": "d487bd39-b2aa-4372-86ef-9857fccf3085",
   "metadata": {},
   "outputs": [],
   "source": []
  },
  {
   "cell_type": "code",
   "execution_count": null,
   "id": "9dce465e-4141-49c4-939e-9889e103d5be",
   "metadata": {},
   "outputs": [],
   "source": []
  },
  {
   "cell_type": "code",
   "execution_count": null,
   "id": "a0fd3269-64af-4e54-8011-10b077815f18",
   "metadata": {},
   "outputs": [],
   "source": []
  },
  {
   "cell_type": "code",
   "execution_count": null,
   "id": "bcb9a506-5ed3-4c78-bf38-16c937b12fde",
   "metadata": {},
   "outputs": [],
   "source": []
  }
 ],
 "metadata": {
  "kernelspec": {
   "display_name": "Python 3",
   "language": "python",
   "name": "python3"
  },
  "language_info": {
   "codemirror_mode": {
    "name": "ipython",
    "version": 3
   },
   "file_extension": ".py",
   "mimetype": "text/x-python",
   "name": "python",
   "nbconvert_exporter": "python",
   "pygments_lexer": "ipython3",
   "version": "3.8.2"
  }
 },
 "nbformat": 4,
 "nbformat_minor": 5
}
