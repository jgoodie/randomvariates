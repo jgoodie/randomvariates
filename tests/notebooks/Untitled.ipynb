{
 "cells": [
  {
   "cell_type": "code",
   "execution_count": 1,
   "id": "16d1eb77-47cd-4851-992d-6b56f05b0fd1",
   "metadata": {},
   "outputs": [],
   "source": [
    "import sys\n",
    "sys.path.append(\"../../\")\n",
    "\n",
    "import numpy as np\n",
    "from randomvariates import random\n",
    "import scipy.stats as stats\n",
    "import plotly.express as px\n",
    "import plotly.graph_objects as go\n",
    "import matplotlib.pyplot as plt\n",
    "from mpl_toolkits.mplot3d import Axes3D\n",
    "%matplotlib inline\n",
    "\n",
    "rv = random.RandomVariates()"
   ]
  },
  {
   "cell_type": "code",
   "execution_count": 5,
   "id": "9e544f8b-ecca-4303-9155-744f30ebec96",
   "metadata": {},
   "outputs": [
    {
     "name": "stdout",
     "output_type": "stream",
     "text": [
      "101\n",
      "[-1.35891969 -1.01321416 -0.24928063  0.40935879 -0.01985627 -1.6073375\n",
      "  0.18085895  1.00613469 -0.9022075  -0.32356757]\n",
      "101\n"
     ]
    }
   ],
   "source": [
    "rv.set_seed(101)\n",
    "print(rv.get_seed())\n",
    "print(rv.norm(n=10))\n",
    "print(rv.get_seed())"
   ]
  },
  {
   "cell_type": "code",
   "execution_count": null,
   "id": "33918f37-8793-4d9c-875b-ef29d065738a",
   "metadata": {},
   "outputs": [],
   "source": [
    "rv.set_seed(None)\n",
    "print(rv.get_seed())\n",
    "print(rv.chisq(n=10))\n",
    "print(rv.get_seed())"
   ]
  },
  {
   "cell_type": "markdown",
   "id": "c7cef591-9cd2-475e-8495-fde0fd1cd6e5",
   "metadata": {},
   "source": [
    "# NegBin"
   ]
  },
  {
   "cell_type": "code",
   "execution_count": null,
   "id": "be2e8ae1-1404-4e1b-8cf7-3a16f264f2f6",
   "metadata": {},
   "outputs": [],
   "source": [
    "rv.set_seed(101); rv.negbin(t=5,n=10)"
   ]
  },
  {
   "cell_type": "code",
   "execution_count": null,
   "id": "89402f1d-052e-4b6a-904f-d5ba3813a73e",
   "metadata": {},
   "outputs": [],
   "source": [
    "# def negbin(t=1, p=0.5, n=1):\n",
    "#     negbins = []\n",
    "#     count = 0\n",
    "#     for i in range(n):\n",
    "#         if rv.seed:\n",
    "#             rv.seed += i\n",
    "#             count += i\n",
    "#         nbt = np.sum(rv.geometric(p=p, n=t))\n",
    "#         negbins.append(nbt)\n",
    "#     if rv.seed:\n",
    "#         rv.seed -= count\n",
    "#     return np.array(negbins)"
   ]
  },
  {
   "cell_type": "code",
   "execution_count": null,
   "id": "e6b905e0-9961-41c2-b8b3-558bd009e13a",
   "metadata": {},
   "outputs": [],
   "source": [
    "rv.set_seed(4200)\n",
    "print(rv.get_seed())\n",
    "print(negbin(t=10, p=0.5, n=15))\n",
    "print(rv.get_seed())"
   ]
  },
  {
   "cell_type": "markdown",
   "id": "7781cbbe-1bf3-4a28-bcfb-d762410b1656",
   "metadata": {},
   "source": [
    "# Binomial"
   ]
  },
  {
   "cell_type": "code",
   "execution_count": null,
   "id": "7d2233e5-7491-4446-b919-bdd15f742d42",
   "metadata": {},
   "outputs": [],
   "source": [
    "rv.set_seed(123)\n",
    "rv.binomial(t=10, p=0.5, n=100)"
   ]
  },
  {
   "cell_type": "code",
   "execution_count": null,
   "id": "7983f6eb-2075-40a9-8f38-00f5eca39ae8",
   "metadata": {},
   "outputs": [],
   "source": [
    "# def binomial(t=1, p=0.5, n=1):\n",
    "#     binomials = []\n",
    "#     count = 0\n",
    "#     for i in range(n):\n",
    "#         if rv.seed:\n",
    "#             rv.seed += i\n",
    "#             count += i\n",
    "#         bernsum = np.sum(rv.bernoulli(p=p,n=t))\n",
    "#         binomials.append(bernsum)\n",
    "#     rv.seed -= count\n",
    "#     return np.array(binomials)"
   ]
  },
  {
   "cell_type": "code",
   "execution_count": null,
   "id": "bef340af-a136-4e31-b680-3e76f04f7fd1",
   "metadata": {},
   "outputs": [],
   "source": [
    "rv.set_seed(56578)\n",
    "print(rv.get_seed())\n",
    "print(binomial(t=10, p=0.5, n=10))\n",
    "print(rv.get_seed())"
   ]
  },
  {
   "cell_type": "code",
   "execution_count": null,
   "id": "f3355899-c30f-4dab-b49a-9206dab2c403",
   "metadata": {},
   "outputs": [],
   "source": [
    "rv.seed"
   ]
  },
  {
   "cell_type": "markdown",
   "id": "899482d4-da25-4ef6-901c-cd7311206892",
   "metadata": {},
   "source": [
    "# Taus"
   ]
  },
  {
   "cell_type": "code",
   "execution_count": null,
   "id": "de995d28-2be1-4def-884e-3ee48176e28b",
   "metadata": {},
   "outputs": [],
   "source": [
    "rseed = rv.randseed()\n",
    "bstring = format(rseed,'b')\n",
    "b = [int(x) for x in bstring]\n",
    "blen = len(b)\n",
    "r = int(np.round(blen*0.25))\n",
    "q = int(np.round(blen*0.75))\n",
    "for _ in range(100):\n",
    "    bi = b[blen-r] ^ b[blen-q]\n",
    "    b.append(bi)\n",
    "    blen = len(b)"
   ]
  },
  {
   "cell_type": "code",
   "execution_count": null,
   "id": "09dd5d84-cb8c-42ab-adcd-84c3321dca45",
   "metadata": {},
   "outputs": [],
   "source": [
    "it = [iter(b)] * 5\n",
    "list(zip(*it))"
   ]
  },
  {
   "cell_type": "code",
   "execution_count": null,
   "id": "85117d64-f3ed-41cf-a6cf-15fa6e13dbf4",
   "metadata": {},
   "outputs": [],
   "source": [
    "''.join([str(x) for x in (1, 0, 1, 1, 1)])"
   ]
  },
  {
   "cell_type": "code",
   "execution_count": null,
   "id": "4991549f-ee4c-444b-8d41-779ada186628",
   "metadata": {},
   "outputs": [],
   "source": [
    "m = 100\n",
    "n = 1\n",
    "x = rv.taus(n=n*m)\n",
    "x = [str(i) for i in x]\n",
    "it = [iter(x)] * m\n",
    "#[int(''.join(s),2) for s in zip(*it)]\n",
    "[int(''.join(s),2)/(2**m) for s in zip(*it)]"
   ]
  },
  {
   "cell_type": "code",
   "execution_count": null,
   "id": "d689959a-737c-4531-8460-64af4cc3db3e",
   "metadata": {},
   "outputs": [],
   "source": [
    "m = 100\n",
    "n = 20\n",
    "x = rv.taus(n=(n*m))\n",
    "x = [str(i) for i in x]\n",
    "it = [iter(x)] * m\n",
    "obs = np.array([int(''.join(s),2)/(2**m) for s in zip(*it)])\n",
    "exp = np.array([0.50]*n)\n",
    "print(np.mean(obs))\n",
    "print(np.mean(exp))\n",
    "stats.chisquare(f_obs=obs, f_exp=exp)"
   ]
  },
  {
   "cell_type": "code",
   "execution_count": null,
   "id": "a79a4ee6-874a-4852-a247-191ab1558935",
   "metadata": {},
   "outputs": [],
   "source": [
    "rv.tausunif(n=100)"
   ]
  },
  {
   "cell_type": "code",
   "execution_count": null,
   "id": "d487bd39-b2aa-4372-86ef-9857fccf3085",
   "metadata": {},
   "outputs": [],
   "source": []
  },
  {
   "cell_type": "code",
   "execution_count": null,
   "id": "9dce465e-4141-49c4-939e-9889e103d5be",
   "metadata": {},
   "outputs": [],
   "source": []
  },
  {
   "cell_type": "code",
   "execution_count": null,
   "id": "a0fd3269-64af-4e54-8011-10b077815f18",
   "metadata": {},
   "outputs": [],
   "source": []
  },
  {
   "cell_type": "code",
   "execution_count": null,
   "id": "bcb9a506-5ed3-4c78-bf38-16c937b12fde",
   "metadata": {},
   "outputs": [],
   "source": []
  }
 ],
 "metadata": {
  "kernelspec": {
   "display_name": "Python 3",
   "language": "python",
   "name": "python3"
  },
  "language_info": {
   "codemirror_mode": {
    "name": "ipython",
    "version": 3
   },
   "file_extension": ".py",
   "mimetype": "text/x-python",
   "name": "python",
   "nbconvert_exporter": "python",
   "pygments_lexer": "ipython3",
   "version": "3.8.2"
  }
 },
 "nbformat": 4,
 "nbformat_minor": 5
}
