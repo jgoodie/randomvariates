{
 "cells": [
  {
   "cell_type": "code",
   "execution_count": 7,
   "id": "16d1eb77-47cd-4851-992d-6b56f05b0fd1",
   "metadata": {},
   "outputs": [],
   "source": [
    "import sys\n",
    "sys.path.append(\"../../\")\n",
    "\n",
    "import numpy as np\n",
    "from RV import RandomVariates\n",
    "import plotly.express as px\n",
    "import plotly.graph_objects as go\n",
    "import matplotlib.pyplot as plt\n",
    "from mpl_toolkits.mplot3d import Axes3D\n",
    "%matplotlib inline"
   ]
  },
  {
   "cell_type": "code",
   "execution_count": 8,
   "id": "941cf5a9-6ae4-4c01-be35-3b11374f14ee",
   "metadata": {},
   "outputs": [],
   "source": [
    "def expo(lam = 1, u=0.5):\n",
    "    return (-1/lam)*np.log(1-u)\n",
    "\n",
    "def expoCdf(lam = 1, x=0):\n",
    "    return 1 - np.e**(-lam*x)"
   ]
  },
  {
   "cell_type": "code",
   "execution_count": 12,
   "id": "1f0dc929-0e3b-4dca-b277-f5c6f6688fd2",
   "metadata": {},
   "outputs": [
    {
     "data": {
      "image/png": "[encoded data removed]",
      "text/plain": [
       "<Figure size 432x288 with 1 Axes>"
      ]
     },
     "metadata": {
      "needs_background": "light"
     },
     "output_type": "display_data"
    }
   ],
   "source": [
    "e = np.random.exponential(scale=1.0, size=1000000)\n",
    "u = []\n",
    "for x in e:\n",
    "    u.append(expoCdf(lam=1, x=x))\n",
    "    \n",
    "plt.hist(u, bins=1000)\n",
    "plt.show()"
   ]
  },
  {
   "cell_type": "code",
   "execution_count": 14,
   "id": "0037970b-14e2-46e5-b4d0-59da389360d4",
   "metadata": {},
   "outputs": [
    {
     "data": {
      "image/png": "[encoded data removed]",
      "text/plain": [
       "<Figure size 432x288 with 1 Axes>"
      ]
     },
     "metadata": {
      "needs_background": "light"
     },
     "output_type": "display_data"
    }
   ],
   "source": [
    "u = np.random.uniform(size=1000000)\n",
    "e = []\n",
    "for x in u:\n",
    "    e.append(expo(lam=1, u=x))\n",
    "plt.hist(e, bins=1000)\n",
    "plt.show()"
   ]
  },
  {
   "cell_type": "code",
   "execution_count": 20,
   "id": "9f914373-9311-4fd7-ae57-0e053b45a92e",
   "metadata": {},
   "outputs": [
    {
     "data": {
      "text/plain": [
       "matrix([[ 0.6, -0.7],\n",
       "        [-0.2,  0.4]])"
      ]
     },
     "execution_count": 20,
     "metadata": {},
     "output_type": "execute_result"
    }
   ],
   "source": [
    "m = np.matrix([[4,7],[2,6]])\n",
    "np.linalg.inv(m)"
   ]
  },
  {
   "cell_type": "code",
   "execution_count": 22,
   "id": "4be87870-5e73-4013-a1cb-301bb7aaeb98",
   "metadata": {},
   "outputs": [
    {
     "data": {
      "text/plain": [
       "matrix([[ 0.6, -0.7],\n",
       "        [-0.2,  0.4]])"
      ]
     },
     "execution_count": 22,
     "metadata": {},
     "output_type": "execute_result"
    }
   ],
   "source": [
    "m**-1"
   ]
  },
  {
   "cell_type": "code",
   "execution_count": null,
   "id": "d4c6681e-df75-4c45-9094-fba5f83267b9",
   "metadata": {},
   "outputs": [],
   "source": []
  },
  {
   "cell_type": "code",
   "execution_count": null,
   "id": "a79a4ee6-874a-4852-a247-191ab1558935",
   "metadata": {},
   "outputs": [],
   "source": []
  }
 ],
 "metadata": {
  "kernelspec": {
   "display_name": "Python 3",
   "language": "python",
   "name": "python3"
  },
  "language_info": {
   "codemirror_mode": {
    "name": "ipython",
    "version": 3
   },
   "file_extension": ".py",
   "mimetype": "text/x-python",
   "name": "python",
   "nbconvert_exporter": "python",
   "pygments_lexer": "ipython3",
   "version": "3.8.2"
  }
 },
 "nbformat": 4,
 "nbformat_minor": 5
}
